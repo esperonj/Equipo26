{
  "nbformat": 4,
  "nbformat_minor": 0,
  "metadata": {
    "colab": {
      "provenance": [],
      "gpuType": "T4",
      "authorship_tag": "ABX9TyOat6lYmY7WGjD5Stb1R1li",
      "include_colab_link": true
    },
    "kernelspec": {
      "name": "python3",
      "display_name": "Python 3"
    },
    "language_info": {
      "name": "python"
    },
    "accelerator": "GPU"
  },
  "cells": [
    {
      "cell_type": "markdown",
      "metadata": {
        "id": "view-in-github",
        "colab_type": "text"
      },
      "source": [
        "<a href=\"https://colab.research.google.com/github/esperonj/Equipo26/blob/main/Avance3_Equipo26.ipynb\" target=\"_parent\"><img src=\"https://colab.research.google.com/assets/colab-badge.svg\" alt=\"Open In Colab\"/></a>"
      ]
    },
    {
      "cell_type": "code",
      "execution_count": null,
      "metadata": {
        "colab": {
          "base_uri": "https://localhost:8080/"
        },
        "id": "icchDUh5_b3F",
        "outputId": "a8dc93fb-0966-48f9-9efe-db055838e682"
      },
      "outputs": [
        {
          "output_type": "stream",
          "name": "stdout",
          "text": [
            "Drive already mounted at /content/drive; to attempt to forcibly remount, call drive.mount(\"/content/drive\", force_remount=True).\n"
          ]
        }
      ],
      "source": [
        "# Montar Drive\n",
        "from google.colab import drive\n",
        "drive.mount('/content/drive')\n",
        "\n",
        "# Librerías\n",
        "import os\n",
        "import random\n",
        "import shutil\n",
        "\n",
        "# Definir carpetas base\n",
        "carpeta_base = '/content/drive/MyDrive'\n",
        "carpeta_imagenes = os.path.join(carpeta_base, 'Labels')\n",
        "carpeta_etiquetas = os.path.join(carpeta_base, 'train')\n",
        "\n",
        "# Crear estructura de dataset para YOLO\n",
        "yolo_path = '/content/yolo_dataset'\n",
        "for split in ['train', 'val']:\n",
        "    os.makedirs(os.path.join(yolo_path, 'images', split), exist_ok=True)\n",
        "    os.makedirs(os.path.join(yolo_path, 'labels', split), exist_ok=True)\n",
        "\n",
        "# Listar imágenes y etiquetas\n",
        "imagenes = sorted([f for f in os.listdir(carpeta_imagenes) if f.lower().endswith(('.jpg', '.png','.JPG'))])\n",
        "etiquetas = sorted([f for f in os.listdir(carpeta_etiquetas) if f.endswith('.txt')])\n",
        "\n",
        "# Emparejar imágenes con sus etiquetas\n",
        "pares = [(img, img.rsplit('.', 1)[0] + '.txt') for img in imagenes if img.rsplit('.', 1)[0] + '.txt' in etiquetas]\n",
        "random.shuffle(pares)\n",
        "\n",
        "# Dividir en 80% train y 20% val\n",
        "split_idx = int(0.8 * len(pares))\n",
        "train_pares = pares[:split_idx]\n",
        "val_pares = pares[split_idx:]\n",
        "\n",
        "# Función para copiar archivos\n",
        "def copiar_pares(pares, tipo):\n",
        "    for img_file, label_file in pares:\n",
        "        shutil.copy(os.path.join(carpeta_imagenes, img_file), os.path.join(yolo_path, 'images', tipo, img_file))\n",
        "        shutil.copy(os.path.join(carpeta_etiquetas, label_file), os.path.join(yolo_path, 'labels', tipo, label_file))\n",
        "\n",
        "copiar_pares(train_pares, 'train')\n",
        "copiar_pares(val_pares, 'val')\n",
        "\n",
        "# Crear archivo de configuración YAML\n",
        "yaml_content = f\"\"\"\n",
        "path: {yolo_path}\n",
        "train: images/train\n",
        "val: images/val\n",
        "nc: 1\n",
        "names: ['etiqueta']\n",
        "\"\"\"\n",
        "\n",
        "with open('/content/yolo_dataset/dataset.yaml', 'w') as f:\n",
        "    f.write(yaml_content)"
      ]
    },
    {
      "cell_type": "code",
      "source": [
        "!pip install ultralytics\n",
        "from ultralytics import YOLO\n",
        "\n",
        "# Entrenar modelo base nano\n",
        "model = YOLO('yolov8n.pt')  # También puedes probar yolov8s.pt, yolov8m.pt, etc.\n",
        "model.train(data='/content/yolo_dataset/dataset.yaml', epochs=30, imgsz=640)"
      ],
      "metadata": {
        "colab": {
          "base_uri": "https://localhost:8080/"
        },
        "id": "H7G_lg6EAbPD",
        "outputId": "5f5ded43-0b68-4ce0-94d1-c1c2a763c335"
      },
      "execution_count": null,
      "outputs": [
        {
          "output_type": "stream",
          "name": "stdout",
          "text": [
            "Collecting ultralytics\n",
            "  Downloading ultralytics-8.3.138-py3-none-any.whl.metadata (37 kB)\n",
            "Requirement already satisfied: numpy>=1.23.0 in /usr/local/lib/python3.11/dist-packages (from ultralytics) (2.0.2)\n",
            "Requirement already satisfied: matplotlib>=3.3.0 in /usr/local/lib/python3.11/dist-packages (from ultralytics) (3.10.0)\n",
            "Requirement already satisfied: opencv-python>=4.6.0 in /usr/local/lib/python3.11/dist-packages (from ultralytics) (4.11.0.86)\n",
            "Requirement already satisfied: pillow>=7.1.2 in /usr/local/lib/python3.11/dist-packages (from ultralytics) (11.2.1)\n",
            "Requirement already satisfied: pyyaml>=5.3.1 in /usr/local/lib/python3.11/dist-packages (from ultralytics) (6.0.2)\n",
            "Requirement already satisfied: requests>=2.23.0 in /usr/local/lib/python3.11/dist-packages (from ultralytics) (2.32.3)\n",
            "Requirement already satisfied: scipy>=1.4.1 in /usr/local/lib/python3.11/dist-packages (from ultralytics) (1.15.3)\n",
            "Requirement already satisfied: torch>=1.8.0 in /usr/local/lib/python3.11/dist-packages (from ultralytics) (2.6.0+cu124)\n",
            "Requirement already satisfied: torchvision>=0.9.0 in /usr/local/lib/python3.11/dist-packages (from ultralytics) (0.21.0+cu124)\n",
            "Requirement already satisfied: tqdm>=4.64.0 in /usr/local/lib/python3.11/dist-packages (from ultralytics) (4.67.1)\n",
            "Requirement already satisfied: psutil in /usr/local/lib/python3.11/dist-packages (from ultralytics) (5.9.5)\n",
            "Requirement already satisfied: py-cpuinfo in /usr/local/lib/python3.11/dist-packages (from ultralytics) (9.0.0)\n",
            "Requirement already satisfied: pandas>=1.1.4 in /usr/local/lib/python3.11/dist-packages (from ultralytics) (2.2.2)\n",
            "Collecting ultralytics-thop>=2.0.0 (from ultralytics)\n",
            "  Downloading ultralytics_thop-2.0.14-py3-none-any.whl.metadata (9.4 kB)\n",
            "Requirement already satisfied: contourpy>=1.0.1 in /usr/local/lib/python3.11/dist-packages (from matplotlib>=3.3.0->ultralytics) (1.3.2)\n",
            "Requirement already satisfied: cycler>=0.10 in /usr/local/lib/python3.11/dist-packages (from matplotlib>=3.3.0->ultralytics) (0.12.1)\n",
            "Requirement already satisfied: fonttools>=4.22.0 in /usr/local/lib/python3.11/dist-packages (from matplotlib>=3.3.0->ultralytics) (4.58.0)\n",
            "Requirement already satisfied: kiwisolver>=1.3.1 in /usr/local/lib/python3.11/dist-packages (from matplotlib>=3.3.0->ultralytics) (1.4.8)\n",
            "Requirement already satisfied: packaging>=20.0 in /usr/local/lib/python3.11/dist-packages (from matplotlib>=3.3.0->ultralytics) (24.2)\n",
            "Requirement already satisfied: pyparsing>=2.3.1 in /usr/local/lib/python3.11/dist-packages (from matplotlib>=3.3.0->ultralytics) (3.2.3)\n",
            "Requirement already satisfied: python-dateutil>=2.7 in /usr/local/lib/python3.11/dist-packages (from matplotlib>=3.3.0->ultralytics) (2.9.0.post0)\n",
            "Requirement already satisfied: pytz>=2020.1 in /usr/local/lib/python3.11/dist-packages (from pandas>=1.1.4->ultralytics) (2025.2)\n",
            "Requirement already satisfied: tzdata>=2022.7 in /usr/local/lib/python3.11/dist-packages (from pandas>=1.1.4->ultralytics) (2025.2)\n",
            "Requirement already satisfied: charset-normalizer<4,>=2 in /usr/local/lib/python3.11/dist-packages (from requests>=2.23.0->ultralytics) (3.4.2)\n",
            "Requirement already satisfied: idna<4,>=2.5 in /usr/local/lib/python3.11/dist-packages (from requests>=2.23.0->ultralytics) (3.10)\n",
            "Requirement already satisfied: urllib3<3,>=1.21.1 in /usr/local/lib/python3.11/dist-packages (from requests>=2.23.0->ultralytics) (2.4.0)\n",
            "Requirement already satisfied: certifi>=2017.4.17 in /usr/local/lib/python3.11/dist-packages (from requests>=2.23.0->ultralytics) (2025.4.26)\n",
            "Requirement already satisfied: filelock in /usr/local/lib/python3.11/dist-packages (from torch>=1.8.0->ultralytics) (3.18.0)\n",
            "Requirement already satisfied: typing-extensions>=4.10.0 in /usr/local/lib/python3.11/dist-packages (from torch>=1.8.0->ultralytics) (4.13.2)\n",
            "Requirement already satisfied: networkx in /usr/local/lib/python3.11/dist-packages (from torch>=1.8.0->ultralytics) (3.4.2)\n",
            "Requirement already satisfied: jinja2 in /usr/local/lib/python3.11/dist-packages (from torch>=1.8.0->ultralytics) (3.1.6)\n",
            "Requirement already satisfied: fsspec in /usr/local/lib/python3.11/dist-packages (from torch>=1.8.0->ultralytics) (2025.3.2)\n",
            "Collecting nvidia-cuda-nvrtc-cu12==12.4.127 (from torch>=1.8.0->ultralytics)\n",
            "  Downloading nvidia_cuda_nvrtc_cu12-12.4.127-py3-none-manylinux2014_x86_64.whl.metadata (1.5 kB)\n",
            "Collecting nvidia-cuda-runtime-cu12==12.4.127 (from torch>=1.8.0->ultralytics)\n",
            "  Downloading nvidia_cuda_runtime_cu12-12.4.127-py3-none-manylinux2014_x86_64.whl.metadata (1.5 kB)\n",
            "Collecting nvidia-cuda-cupti-cu12==12.4.127 (from torch>=1.8.0->ultralytics)\n",
            "  Downloading nvidia_cuda_cupti_cu12-12.4.127-py3-none-manylinux2014_x86_64.whl.metadata (1.6 kB)\n",
            "Collecting nvidia-cudnn-cu12==9.1.0.70 (from torch>=1.8.0->ultralytics)\n",
            "  Downloading nvidia_cudnn_cu12-9.1.0.70-py3-none-manylinux2014_x86_64.whl.metadata (1.6 kB)\n",
            "Collecting nvidia-cublas-cu12==12.4.5.8 (from torch>=1.8.0->ultralytics)\n",
            "  Downloading nvidia_cublas_cu12-12.4.5.8-py3-none-manylinux2014_x86_64.whl.metadata (1.5 kB)\n",
            "Collecting nvidia-cufft-cu12==11.2.1.3 (from torch>=1.8.0->ultralytics)\n",
            "  Downloading nvidia_cufft_cu12-11.2.1.3-py3-none-manylinux2014_x86_64.whl.metadata (1.5 kB)\n",
            "Collecting nvidia-curand-cu12==10.3.5.147 (from torch>=1.8.0->ultralytics)\n",
            "  Downloading nvidia_curand_cu12-10.3.5.147-py3-none-manylinux2014_x86_64.whl.metadata (1.5 kB)\n",
            "Collecting nvidia-cusolver-cu12==11.6.1.9 (from torch>=1.8.0->ultralytics)\n",
            "  Downloading nvidia_cusolver_cu12-11.6.1.9-py3-none-manylinux2014_x86_64.whl.metadata (1.6 kB)\n",
            "Collecting nvidia-cusparse-cu12==12.3.1.170 (from torch>=1.8.0->ultralytics)\n",
            "  Downloading nvidia_cusparse_cu12-12.3.1.170-py3-none-manylinux2014_x86_64.whl.metadata (1.6 kB)\n",
            "Requirement already satisfied: nvidia-cusparselt-cu12==0.6.2 in /usr/local/lib/python3.11/dist-packages (from torch>=1.8.0->ultralytics) (0.6.2)\n",
            "Requirement already satisfied: nvidia-nccl-cu12==2.21.5 in /usr/local/lib/python3.11/dist-packages (from torch>=1.8.0->ultralytics) (2.21.5)\n",
            "Requirement already satisfied: nvidia-nvtx-cu12==12.4.127 in /usr/local/lib/python3.11/dist-packages (from torch>=1.8.0->ultralytics) (12.4.127)\n",
            "Collecting nvidia-nvjitlink-cu12==12.4.127 (from torch>=1.8.0->ultralytics)\n",
            "  Downloading nvidia_nvjitlink_cu12-12.4.127-py3-none-manylinux2014_x86_64.whl.metadata (1.5 kB)\n",
            "Requirement already satisfied: triton==3.2.0 in /usr/local/lib/python3.11/dist-packages (from torch>=1.8.0->ultralytics) (3.2.0)\n",
            "Requirement already satisfied: sympy==1.13.1 in /usr/local/lib/python3.11/dist-packages (from torch>=1.8.0->ultralytics) (1.13.1)\n",
            "Requirement already satisfied: mpmath<1.4,>=1.1.0 in /usr/local/lib/python3.11/dist-packages (from sympy==1.13.1->torch>=1.8.0->ultralytics) (1.3.0)\n",
            "Requirement already satisfied: six>=1.5 in /usr/local/lib/python3.11/dist-packages (from python-dateutil>=2.7->matplotlib>=3.3.0->ultralytics) (1.17.0)\n",
            "Requirement already satisfied: MarkupSafe>=2.0 in /usr/local/lib/python3.11/dist-packages (from jinja2->torch>=1.8.0->ultralytics) (3.0.2)\n",
            "Downloading ultralytics-8.3.138-py3-none-any.whl (1.0 MB)\n",
            "\u001b[2K   \u001b[90m━━━━━━━━━━━━━━━━━━━━━━━━━━━━━━━━━━━━━━━━\u001b[0m \u001b[32m1.0/1.0 MB\u001b[0m \u001b[31m17.4 MB/s\u001b[0m eta \u001b[36m0:00:00\u001b[0m\n",
            "\u001b[?25hDownloading nvidia_cublas_cu12-12.4.5.8-py3-none-manylinux2014_x86_64.whl (363.4 MB)\n",
            "\u001b[2K   \u001b[90m━━━━━━━━━━━━━━━━━━━━━━━━━━━━━━━━━━━━━━━━\u001b[0m \u001b[32m363.4/363.4 MB\u001b[0m \u001b[31m4.1 MB/s\u001b[0m eta \u001b[36m0:00:00\u001b[0m\n",
            "\u001b[?25hDownloading nvidia_cuda_cupti_cu12-12.4.127-py3-none-manylinux2014_x86_64.whl (13.8 MB)\n",
            "\u001b[2K   \u001b[90m━━━━━━━━━━━━━━━━━━━━━━━━━━━━━━━━━━━━━━━━\u001b[0m \u001b[32m13.8/13.8 MB\u001b[0m \u001b[31m126.4 MB/s\u001b[0m eta \u001b[36m0:00:00\u001b[0m\n",
            "\u001b[?25hDownloading nvidia_cuda_nvrtc_cu12-12.4.127-py3-none-manylinux2014_x86_64.whl (24.6 MB)\n",
            "\u001b[2K   \u001b[90m━━━━━━━━━━━━━━━━━━━━━━━━━━━━━━━━━━━━━━━━\u001b[0m \u001b[32m24.6/24.6 MB\u001b[0m \u001b[31m24.6 MB/s\u001b[0m eta \u001b[36m0:00:00\u001b[0m\n",
            "\u001b[?25hDownloading nvidia_cuda_runtime_cu12-12.4.127-py3-none-manylinux2014_x86_64.whl (883 kB)\n",
            "\u001b[2K   \u001b[90m━━━━━━━━━━━━━━━━━━━━━━━━━━━━━━━━━━━━━━━━\u001b[0m \u001b[32m883.7/883.7 kB\u001b[0m \u001b[31m60.2 MB/s\u001b[0m eta \u001b[36m0:00:00\u001b[0m\n",
            "\u001b[?25hDownloading nvidia_cudnn_cu12-9.1.0.70-py3-none-manylinux2014_x86_64.whl (664.8 MB)\n",
            "\u001b[2K   \u001b[90m━━━━━━━━━━━━━━━━━━━━━━━━━━━━━━━━━━━━━━━━\u001b[0m \u001b[32m664.8/664.8 MB\u001b[0m \u001b[31m1.1 MB/s\u001b[0m eta \u001b[36m0:00:00\u001b[0m\n",
            "\u001b[?25hDownloading nvidia_cufft_cu12-11.2.1.3-py3-none-manylinux2014_x86_64.whl (211.5 MB)\n",
            "\u001b[2K   \u001b[90m━━━━━━━━━━━━━━━━━━━━━━━━━━━━━━━━━━━━━━━━\u001b[0m \u001b[32m211.5/211.5 MB\u001b[0m \u001b[31m5.8 MB/s\u001b[0m eta \u001b[36m0:00:00\u001b[0m\n",
            "\u001b[?25hDownloading nvidia_curand_cu12-10.3.5.147-py3-none-manylinux2014_x86_64.whl (56.3 MB)\n",
            "\u001b[2K   \u001b[90m━━━━━━━━━━━━━━━━━━━━━━━━━━━━━━━━━━━━━━━━\u001b[0m \u001b[32m56.3/56.3 MB\u001b[0m \u001b[31m13.2 MB/s\u001b[0m eta \u001b[36m0:00:00\u001b[0m\n",
            "\u001b[?25hDownloading nvidia_cusolver_cu12-11.6.1.9-py3-none-manylinux2014_x86_64.whl (127.9 MB)\n",
            "\u001b[2K   \u001b[90m━━━━━━━━━━━━━━━━━━━━━━━━━━━━━━━━━━━━━━━━\u001b[0m \u001b[32m127.9/127.9 MB\u001b[0m \u001b[31m8.2 MB/s\u001b[0m eta \u001b[36m0:00:00\u001b[0m\n",
            "\u001b[?25hDownloading nvidia_cusparse_cu12-12.3.1.170-py3-none-manylinux2014_x86_64.whl (207.5 MB)\n",
            "\u001b[2K   \u001b[90m━━━━━━━━━━━━━━━━━━━━━━━━━━━━━━━━━━━━━━━━\u001b[0m \u001b[32m207.5/207.5 MB\u001b[0m \u001b[31m5.6 MB/s\u001b[0m eta \u001b[36m0:00:00\u001b[0m\n",
            "\u001b[?25hDownloading nvidia_nvjitlink_cu12-12.4.127-py3-none-manylinux2014_x86_64.whl (21.1 MB)\n",
            "\u001b[2K   \u001b[90m━━━━━━━━━━━━━━━━━━━━━━━━━━━━━━━━━━━━━━━━\u001b[0m \u001b[32m21.1/21.1 MB\u001b[0m \u001b[31m107.4 MB/s\u001b[0m eta \u001b[36m0:00:00\u001b[0m\n",
            "\u001b[?25hDownloading ultralytics_thop-2.0.14-py3-none-any.whl (26 kB)\n",
            "Installing collected packages: nvidia-nvjitlink-cu12, nvidia-curand-cu12, nvidia-cufft-cu12, nvidia-cuda-runtime-cu12, nvidia-cuda-nvrtc-cu12, nvidia-cuda-cupti-cu12, nvidia-cublas-cu12, nvidia-cusparse-cu12, nvidia-cudnn-cu12, nvidia-cusolver-cu12, ultralytics-thop, ultralytics\n",
            "  Attempting uninstall: nvidia-nvjitlink-cu12\n",
            "    Found existing installation: nvidia-nvjitlink-cu12 12.5.82\n",
            "    Uninstalling nvidia-nvjitlink-cu12-12.5.82:\n",
            "      Successfully uninstalled nvidia-nvjitlink-cu12-12.5.82\n",
            "  Attempting uninstall: nvidia-curand-cu12\n",
            "    Found existing installation: nvidia-curand-cu12 10.3.6.82\n",
            "    Uninstalling nvidia-curand-cu12-10.3.6.82:\n",
            "      Successfully uninstalled nvidia-curand-cu12-10.3.6.82\n",
            "  Attempting uninstall: nvidia-cufft-cu12\n",
            "    Found existing installation: nvidia-cufft-cu12 11.2.3.61\n",
            "    Uninstalling nvidia-cufft-cu12-11.2.3.61:\n",
            "      Successfully uninstalled nvidia-cufft-cu12-11.2.3.61\n",
            "  Attempting uninstall: nvidia-cuda-runtime-cu12\n",
            "    Found existing installation: nvidia-cuda-runtime-cu12 12.5.82\n",
            "    Uninstalling nvidia-cuda-runtime-cu12-12.5.82:\n",
            "      Successfully uninstalled nvidia-cuda-runtime-cu12-12.5.82\n",
            "  Attempting uninstall: nvidia-cuda-nvrtc-cu12\n",
            "    Found existing installation: nvidia-cuda-nvrtc-cu12 12.5.82\n",
            "    Uninstalling nvidia-cuda-nvrtc-cu12-12.5.82:\n",
            "      Successfully uninstalled nvidia-cuda-nvrtc-cu12-12.5.82\n",
            "  Attempting uninstall: nvidia-cuda-cupti-cu12\n",
            "    Found existing installation: nvidia-cuda-cupti-cu12 12.5.82\n",
            "    Uninstalling nvidia-cuda-cupti-cu12-12.5.82:\n",
            "      Successfully uninstalled nvidia-cuda-cupti-cu12-12.5.82\n",
            "  Attempting uninstall: nvidia-cublas-cu12\n",
            "    Found existing installation: nvidia-cublas-cu12 12.5.3.2\n",
            "    Uninstalling nvidia-cublas-cu12-12.5.3.2:\n",
            "      Successfully uninstalled nvidia-cublas-cu12-12.5.3.2\n",
            "  Attempting uninstall: nvidia-cusparse-cu12\n",
            "    Found existing installation: nvidia-cusparse-cu12 12.5.1.3\n",
            "    Uninstalling nvidia-cusparse-cu12-12.5.1.3:\n",
            "      Successfully uninstalled nvidia-cusparse-cu12-12.5.1.3\n",
            "  Attempting uninstall: nvidia-cudnn-cu12\n",
            "    Found existing installation: nvidia-cudnn-cu12 9.3.0.75\n",
            "    Uninstalling nvidia-cudnn-cu12-9.3.0.75:\n",
            "      Successfully uninstalled nvidia-cudnn-cu12-9.3.0.75\n",
            "  Attempting uninstall: nvidia-cusolver-cu12\n",
            "    Found existing installation: nvidia-cusolver-cu12 11.6.3.83\n",
            "    Uninstalling nvidia-cusolver-cu12-11.6.3.83:\n",
            "      Successfully uninstalled nvidia-cusolver-cu12-11.6.3.83\n",
            "Successfully installed nvidia-cublas-cu12-12.4.5.8 nvidia-cuda-cupti-cu12-12.4.127 nvidia-cuda-nvrtc-cu12-12.4.127 nvidia-cuda-runtime-cu12-12.4.127 nvidia-cudnn-cu12-9.1.0.70 nvidia-cufft-cu12-11.2.1.3 nvidia-curand-cu12-10.3.5.147 nvidia-cusolver-cu12-11.6.1.9 nvidia-cusparse-cu12-12.3.1.170 nvidia-nvjitlink-cu12-12.4.127 ultralytics-8.3.138 ultralytics-thop-2.0.14\n",
            "Creating new Ultralytics Settings v0.0.6 file ✅ \n",
            "View Ultralytics Settings with 'yolo settings' or at '/root/.config/Ultralytics/settings.json'\n",
            "Update Settings with 'yolo settings key=value', i.e. 'yolo settings runs_dir=path/to/dir'. For help see https://docs.ultralytics.com/quickstart/#ultralytics-settings.\n",
            "Downloading https://github.com/ultralytics/assets/releases/download/v8.3.0/yolov8n.pt to 'yolov8n.pt'...\n"
          ]
        },
        {
          "output_type": "stream",
          "name": "stderr",
          "text": [
            "100%|██████████| 6.25M/6.25M [00:00<00:00, 77.3MB/s]\n"
          ]
        },
        {
          "output_type": "stream",
          "name": "stdout",
          "text": [
            "Ultralytics 8.3.138 🚀 Python-3.11.12 torch-2.6.0+cu124 CUDA:0 (Tesla T4, 15095MiB)\n",
            "\u001b[34m\u001b[1mengine/trainer: \u001b[0magnostic_nms=False, amp=True, augment=False, auto_augment=randaugment, batch=16, bgr=0.0, box=7.5, cache=False, cfg=None, classes=None, close_mosaic=10, cls=0.5, conf=None, copy_paste=0.0, copy_paste_mode=flip, cos_lr=False, cutmix=0.0, data=/content/yolo_dataset/dataset.yaml, degrees=0.0, deterministic=True, device=None, dfl=1.5, dnn=False, dropout=0.0, dynamic=False, embed=None, epochs=30, erasing=0.4, exist_ok=False, fliplr=0.5, flipud=0.0, format=torchscript, fraction=1.0, freeze=None, half=False, hsv_h=0.015, hsv_s=0.7, hsv_v=0.4, imgsz=640, int8=False, iou=0.7, keras=False, kobj=1.0, line_width=None, lr0=0.01, lrf=0.01, mask_ratio=4, max_det=300, mixup=0.0, mode=train, model=yolov8n.pt, momentum=0.937, mosaic=1.0, multi_scale=False, name=train, nbs=64, nms=False, opset=None, optimize=False, optimizer=auto, overlap_mask=True, patience=100, perspective=0.0, plots=True, pose=12.0, pretrained=True, profile=False, project=None, rect=False, resume=False, retina_masks=False, save=True, save_conf=False, save_crop=False, save_dir=runs/detect/train, save_frames=False, save_json=False, save_period=-1, save_txt=False, scale=0.5, seed=0, shear=0.0, show=False, show_boxes=True, show_conf=True, show_labels=True, simplify=True, single_cls=False, source=None, split=val, stream_buffer=False, task=detect, time=None, tracker=botsort.yaml, translate=0.1, val=True, verbose=True, vid_stride=1, visualize=False, warmup_bias_lr=0.1, warmup_epochs=3.0, warmup_momentum=0.8, weight_decay=0.0005, workers=8, workspace=None\n",
            "Downloading https://ultralytics.com/assets/Arial.ttf to '/root/.config/Ultralytics/Arial.ttf'...\n"
          ]
        },
        {
          "output_type": "stream",
          "name": "stderr",
          "text": [
            "100%|██████████| 755k/755k [00:00<00:00, 15.1MB/s]"
          ]
        },
        {
          "output_type": "stream",
          "name": "stdout",
          "text": [
            "Overriding model.yaml nc=80 with nc=1\n",
            "\n",
            "                   from  n    params  module                                       arguments                     \n",
            "  0                  -1  1       464  ultralytics.nn.modules.conv.Conv             [3, 16, 3, 2]                 \n",
            "  1                  -1  1      4672  ultralytics.nn.modules.conv.Conv             [16, 32, 3, 2]                \n",
            "  2                  -1  1      7360  ultralytics.nn.modules.block.C2f             [32, 32, 1, True]             \n",
            "  3                  -1  1     18560  ultralytics.nn.modules.conv.Conv             [32, 64, 3, 2]                \n",
            "  4                  -1  2     49664  ultralytics.nn.modules.block.C2f             [64, 64, 2, True]             \n",
            "  5                  -1  1     73984  ultralytics.nn.modules.conv.Conv             [64, 128, 3, 2]               \n",
            "  6                  -1  2    197632  ultralytics.nn.modules.block.C2f             [128, 128, 2, True]           \n",
            "  7                  -1  1    295424  ultralytics.nn.modules.conv.Conv             [128, 256, 3, 2]              \n",
            "  8                  -1  1    460288  ultralytics.nn.modules.block.C2f             [256, 256, 1, True]           \n",
            "  9                  -1  1    164608  ultralytics.nn.modules.block.SPPF            [256, 256, 5]                 \n",
            " 10                  -1  1         0  torch.nn.modules.upsampling.Upsample         [None, 2, 'nearest']          \n",
            " 11             [-1, 6]  1         0  ultralytics.nn.modules.conv.Concat           [1]                           \n",
            " 12                  -1  1    148224  ultralytics.nn.modules.block.C2f             [384, 128, 1]                 \n",
            " 13                  -1  1         0  torch.nn.modules.upsampling.Upsample         [None, 2, 'nearest']          \n",
            " 14             [-1, 4]  1         0  ultralytics.nn.modules.conv.Concat           [1]                           \n",
            " 15                  -1  1     37248  ultralytics.nn.modules.block.C2f             [192, 64, 1]                  \n",
            " 16                  -1  1     36992  ultralytics.nn.modules.conv.Conv             [64, 64, 3, 2]                \n",
            " 17            [-1, 12]  1         0  ultralytics.nn.modules.conv.Concat           [1]                           \n",
            " 18                  -1  1    123648  ultralytics.nn.modules.block.C2f             [192, 128, 1]                 \n",
            " 19                  -1  1    147712  ultralytics.nn.modules.conv.Conv             [128, 128, 3, 2]              \n",
            " 20             [-1, 9]  1         0  ultralytics.nn.modules.conv.Concat           [1]                           \n",
            " 21                  -1  1    493056  ultralytics.nn.modules.block.C2f             [384, 256, 1]                 \n",
            " 22        [15, 18, 21]  1    751507  ultralytics.nn.modules.head.Detect           [1, [64, 128, 256]]           \n"
          ]
        },
        {
          "output_type": "stream",
          "name": "stderr",
          "text": [
            "\n"
          ]
        },
        {
          "output_type": "stream",
          "name": "stdout",
          "text": [
            "Model summary: 129 layers, 3,011,043 parameters, 3,011,027 gradients, 8.2 GFLOPs\n",
            "\n",
            "Transferred 319/355 items from pretrained weights\n",
            "Freezing layer 'model.22.dfl.conv.weight'\n",
            "\u001b[34m\u001b[1mAMP: \u001b[0mrunning Automatic Mixed Precision (AMP) checks...\n",
            "Downloading https://github.com/ultralytics/assets/releases/download/v8.3.0/yolo11n.pt to 'yolo11n.pt'...\n"
          ]
        },
        {
          "output_type": "stream",
          "name": "stderr",
          "text": [
            "100%|██████████| 5.35M/5.35M [00:00<00:00, 66.3MB/s]\n"
          ]
        },
        {
          "output_type": "stream",
          "name": "stdout",
          "text": [
            "\u001b[34m\u001b[1mAMP: \u001b[0mchecks passed ✅\n",
            "\u001b[34m\u001b[1mtrain: \u001b[0mFast image access ✅ (ping: 0.0±0.0 ms, read: 153.4±9.2 MB/s, size: 1946.1 KB)\n"
          ]
        },
        {
          "output_type": "stream",
          "name": "stderr",
          "text": [
            "\u001b[34m\u001b[1mtrain: \u001b[0mScanning /content/yolo_dataset/labels/train... 290 images, 36 backgrounds, 0 corrupt: 100%|██████████| 290/290 [00:00<00:00, 375.30it/s]"
          ]
        },
        {
          "output_type": "stream",
          "name": "stdout",
          "text": [
            "\u001b[34m\u001b[1mtrain: \u001b[0mNew cache created: /content/yolo_dataset/labels/train.cache\n"
          ]
        },
        {
          "output_type": "stream",
          "name": "stderr",
          "text": [
            "\n"
          ]
        },
        {
          "output_type": "stream",
          "name": "stdout",
          "text": [
            "\u001b[34m\u001b[1malbumentations: \u001b[0mBlur(p=0.01, blur_limit=(3, 7)), MedianBlur(p=0.01, blur_limit=(3, 7)), ToGray(p=0.01, method='weighted_average', num_output_channels=3), CLAHE(p=0.01, clip_limit=(1.0, 4.0), tile_grid_size=(8, 8))\n",
            "\u001b[34m\u001b[1mval: \u001b[0mFast image access ✅ (ping: 0.0±0.0 ms, read: 111.8±28.4 MB/s, size: 2228.0 KB)\n"
          ]
        },
        {
          "output_type": "stream",
          "name": "stderr",
          "text": [
            "\u001b[34m\u001b[1mval: \u001b[0mScanning /content/yolo_dataset/labels/val... 108 images, 5 backgrounds, 0 corrupt: 100%|██████████| 108/108 [00:00<00:00, 250.95it/s]"
          ]
        },
        {
          "output_type": "stream",
          "name": "stdout",
          "text": [
            "\u001b[34m\u001b[1mval: \u001b[0mNew cache created: /content/yolo_dataset/labels/val.cache\n"
          ]
        },
        {
          "output_type": "stream",
          "name": "stderr",
          "text": [
            "\n"
          ]
        },
        {
          "output_type": "stream",
          "name": "stdout",
          "text": [
            "Plotting labels to runs/detect/train/labels.jpg... \n",
            "\u001b[34m\u001b[1moptimizer:\u001b[0m 'optimizer=auto' found, ignoring 'lr0=0.01' and 'momentum=0.937' and determining best 'optimizer', 'lr0' and 'momentum' automatically... \n",
            "\u001b[34m\u001b[1moptimizer:\u001b[0m AdamW(lr=0.002, momentum=0.9) with parameter groups 57 weight(decay=0.0), 64 weight(decay=0.0005), 63 bias(decay=0.0)\n",
            "Image sizes 640 train, 640 val\n",
            "Using 2 dataloader workers\n",
            "Logging results to \u001b[1mruns/detect/train\u001b[0m\n",
            "Starting training for 30 epochs...\n",
            "\n",
            "      Epoch    GPU_mem   box_loss   cls_loss   dfl_loss  Instances       Size\n"
          ]
        },
        {
          "output_type": "stream",
          "name": "stderr",
          "text": [
            "       1/30      2.11G      1.049      2.735      1.268          1        640: 100%|██████████| 19/19 [00:33<00:00,  1.77s/it]\n",
            "                 Class     Images  Instances      Box(P          R      mAP50  mAP50-95): 100%|██████████| 4/4 [00:05<00:00,  1.25s/it]"
          ]
        },
        {
          "output_type": "stream",
          "name": "stdout",
          "text": [
            "                   all        108        177      0.811      0.822       0.83      0.648\n"
          ]
        },
        {
          "output_type": "stream",
          "name": "stderr",
          "text": [
            "\n"
          ]
        },
        {
          "output_type": "stream",
          "name": "stdout",
          "text": [
            "\n",
            "      Epoch    GPU_mem   box_loss   cls_loss   dfl_loss  Instances       Size\n"
          ]
        },
        {
          "output_type": "stream",
          "name": "stderr",
          "text": [
            "       2/30      2.59G     0.7756      1.193      1.041          6        640: 100%|██████████| 19/19 [00:27<00:00,  1.44s/it]\n",
            "                 Class     Images  Instances      Box(P          R      mAP50  mAP50-95): 100%|██████████| 4/4 [00:02<00:00,  1.79it/s]"
          ]
        },
        {
          "output_type": "stream",
          "name": "stdout",
          "text": [
            "                   all        108        177      0.774      0.735      0.839      0.665\n"
          ]
        },
        {
          "output_type": "stream",
          "name": "stderr",
          "text": [
            "\n"
          ]
        },
        {
          "output_type": "stream",
          "name": "stdout",
          "text": [
            "\n",
            "      Epoch    GPU_mem   box_loss   cls_loss   dfl_loss  Instances       Size\n"
          ]
        },
        {
          "output_type": "stream",
          "name": "stderr",
          "text": [
            "       3/30      2.62G     0.7688      1.051      1.016          9        640: 100%|██████████| 19/19 [00:28<00:00,  1.52s/it]\n",
            "                 Class     Images  Instances      Box(P          R      mAP50  mAP50-95): 100%|██████████| 4/4 [00:02<00:00,  1.59it/s]"
          ]
        },
        {
          "output_type": "stream",
          "name": "stdout",
          "text": [
            "                   all        108        177       0.91      0.847      0.924      0.737\n"
          ]
        },
        {
          "output_type": "stream",
          "name": "stderr",
          "text": [
            "\n"
          ]
        },
        {
          "output_type": "stream",
          "name": "stdout",
          "text": [
            "\n",
            "      Epoch    GPU_mem   box_loss   cls_loss   dfl_loss  Instances       Size\n"
          ]
        },
        {
          "output_type": "stream",
          "name": "stderr",
          "text": [
            "       4/30      2.63G     0.7909      1.018      1.049          6        640: 100%|██████████| 19/19 [00:26<00:00,  1.39s/it]\n",
            "                 Class     Images  Instances      Box(P          R      mAP50  mAP50-95): 100%|██████████| 4/4 [00:02<00:00,  1.66it/s]"
          ]
        },
        {
          "output_type": "stream",
          "name": "stdout",
          "text": [
            "                   all        108        177      0.858      0.808      0.882      0.653\n"
          ]
        },
        {
          "output_type": "stream",
          "name": "stderr",
          "text": [
            "\n"
          ]
        },
        {
          "output_type": "stream",
          "name": "stdout",
          "text": [
            "\n",
            "      Epoch    GPU_mem   box_loss   cls_loss   dfl_loss  Instances       Size\n"
          ]
        },
        {
          "output_type": "stream",
          "name": "stderr",
          "text": [
            "       5/30      2.65G     0.7664     0.9473      1.016          7        640: 100%|██████████| 19/19 [00:26<00:00,  1.39s/it]\n",
            "                 Class     Images  Instances      Box(P          R      mAP50  mAP50-95): 100%|██████████| 4/4 [00:01<00:00,  2.21it/s]"
          ]
        },
        {
          "output_type": "stream",
          "name": "stdout",
          "text": [
            "                   all        108        177      0.834      0.881      0.912      0.713\n"
          ]
        },
        {
          "output_type": "stream",
          "name": "stderr",
          "text": [
            "\n"
          ]
        },
        {
          "output_type": "stream",
          "name": "stdout",
          "text": [
            "\n",
            "      Epoch    GPU_mem   box_loss   cls_loss   dfl_loss  Instances       Size\n"
          ]
        },
        {
          "output_type": "stream",
          "name": "stderr",
          "text": [
            "       6/30      2.67G     0.7283     0.8694     0.9722          2        640: 100%|██████████| 19/19 [00:27<00:00,  1.44s/it]\n",
            "                 Class     Images  Instances      Box(P          R      mAP50  mAP50-95): 100%|██████████| 4/4 [00:01<00:00,  2.39it/s]"
          ]
        },
        {
          "output_type": "stream",
          "name": "stdout",
          "text": [
            "                   all        108        177      0.857      0.887      0.926      0.724\n"
          ]
        },
        {
          "output_type": "stream",
          "name": "stderr",
          "text": [
            "\n"
          ]
        },
        {
          "output_type": "stream",
          "name": "stdout",
          "text": [
            "\n",
            "      Epoch    GPU_mem   box_loss   cls_loss   dfl_loss  Instances       Size\n"
          ]
        },
        {
          "output_type": "stream",
          "name": "stderr",
          "text": [
            "       7/30      2.68G     0.7715     0.8944     0.9947          8        640: 100%|██████████| 19/19 [00:27<00:00,  1.45s/it]\n",
            "                 Class     Images  Instances      Box(P          R      mAP50  mAP50-95): 100%|██████████| 4/4 [00:01<00:00,  2.14it/s]"
          ]
        },
        {
          "output_type": "stream",
          "name": "stdout",
          "text": [
            "                   all        108        177      0.867      0.887       0.93      0.752\n"
          ]
        },
        {
          "output_type": "stream",
          "name": "stderr",
          "text": [
            "\n"
          ]
        },
        {
          "output_type": "stream",
          "name": "stdout",
          "text": [
            "\n",
            "      Epoch    GPU_mem   box_loss   cls_loss   dfl_loss  Instances       Size\n"
          ]
        },
        {
          "output_type": "stream",
          "name": "stderr",
          "text": [
            "       8/30       2.7G     0.7578     0.9021      1.027          3        640: 100%|██████████| 19/19 [00:27<00:00,  1.45s/it]\n",
            "                 Class     Images  Instances      Box(P          R      mAP50  mAP50-95): 100%|██████████| 4/4 [00:01<00:00,  2.60it/s]"
          ]
        },
        {
          "output_type": "stream",
          "name": "stdout",
          "text": [
            "                   all        108        177      0.927      0.928      0.958      0.776\n"
          ]
        },
        {
          "output_type": "stream",
          "name": "stderr",
          "text": [
            "\n"
          ]
        },
        {
          "output_type": "stream",
          "name": "stdout",
          "text": [
            "\n",
            "      Epoch    GPU_mem   box_loss   cls_loss   dfl_loss  Instances       Size\n"
          ]
        },
        {
          "output_type": "stream",
          "name": "stderr",
          "text": [
            "       9/30      2.72G     0.6967     0.7845     0.9757          5        640: 100%|██████████| 19/19 [00:28<00:00,  1.51s/it]\n",
            "                 Class     Images  Instances      Box(P          R      mAP50  mAP50-95): 100%|██████████| 4/4 [00:01<00:00,  2.68it/s]\n"
          ]
        },
        {
          "output_type": "stream",
          "name": "stdout",
          "text": [
            "                   all        108        177       0.93       0.96       0.97      0.825\n",
            "\n",
            "      Epoch    GPU_mem   box_loss   cls_loss   dfl_loss  Instances       Size\n"
          ]
        },
        {
          "output_type": "stream",
          "name": "stderr",
          "text": [
            "      10/30      2.74G     0.6918     0.7424     0.9706          5        640: 100%|██████████| 19/19 [00:25<00:00,  1.33s/it]\n",
            "                 Class     Images  Instances      Box(P          R      mAP50  mAP50-95): 100%|██████████| 4/4 [00:01<00:00,  2.73it/s]"
          ]
        },
        {
          "output_type": "stream",
          "name": "stdout",
          "text": [
            "                   all        108        177      0.897       0.96      0.954      0.804\n"
          ]
        },
        {
          "output_type": "stream",
          "name": "stderr",
          "text": [
            "\n"
          ]
        },
        {
          "output_type": "stream",
          "name": "stdout",
          "text": [
            "\n",
            "      Epoch    GPU_mem   box_loss   cls_loss   dfl_loss  Instances       Size\n"
          ]
        },
        {
          "output_type": "stream",
          "name": "stderr",
          "text": [
            "      11/30      2.75G     0.6771     0.7097     0.9608          6        640: 100%|██████████| 19/19 [00:26<00:00,  1.39s/it]\n",
            "                 Class     Images  Instances      Box(P          R      mAP50  mAP50-95): 100%|██████████| 4/4 [00:01<00:00,  2.40it/s]"
          ]
        },
        {
          "output_type": "stream",
          "name": "stdout",
          "text": [
            "                   all        108        177      0.941      0.915      0.954      0.802\n"
          ]
        },
        {
          "output_type": "stream",
          "name": "stderr",
          "text": [
            "\n"
          ]
        },
        {
          "output_type": "stream",
          "name": "stdout",
          "text": [
            "\n",
            "      Epoch    GPU_mem   box_loss   cls_loss   dfl_loss  Instances       Size\n"
          ]
        },
        {
          "output_type": "stream",
          "name": "stderr",
          "text": [
            "      12/30      2.77G     0.6877     0.6576     0.9557          6        640: 100%|██████████| 19/19 [00:26<00:00,  1.40s/it]\n",
            "                 Class     Images  Instances      Box(P          R      mAP50  mAP50-95): 100%|██████████| 4/4 [00:01<00:00,  2.02it/s]"
          ]
        },
        {
          "output_type": "stream",
          "name": "stdout",
          "text": [
            "                   all        108        177      0.903      0.947      0.967      0.779\n"
          ]
        },
        {
          "output_type": "stream",
          "name": "stderr",
          "text": [
            "\n"
          ]
        },
        {
          "output_type": "stream",
          "name": "stdout",
          "text": [
            "\n",
            "      Epoch    GPU_mem   box_loss   cls_loss   dfl_loss  Instances       Size\n"
          ]
        },
        {
          "output_type": "stream",
          "name": "stderr",
          "text": [
            "      13/30      2.79G     0.6658     0.6393     0.9572          7        640: 100%|██████████| 19/19 [00:25<00:00,  1.36s/it]\n",
            "                 Class     Images  Instances      Box(P          R      mAP50  mAP50-95): 100%|██████████| 4/4 [00:02<00:00,  1.58it/s]"
          ]
        },
        {
          "output_type": "stream",
          "name": "stdout",
          "text": [
            "                   all        108        177      0.932      0.935      0.965      0.819\n"
          ]
        },
        {
          "output_type": "stream",
          "name": "stderr",
          "text": [
            "\n"
          ]
        },
        {
          "output_type": "stream",
          "name": "stdout",
          "text": [
            "\n",
            "      Epoch    GPU_mem   box_loss   cls_loss   dfl_loss  Instances       Size\n"
          ]
        },
        {
          "output_type": "stream",
          "name": "stderr",
          "text": [
            "      14/30      2.81G     0.6583     0.6328     0.9561          8        640: 100%|██████████| 19/19 [00:24<00:00,  1.31s/it]\n",
            "                 Class     Images  Instances      Box(P          R      mAP50  mAP50-95): 100%|██████████| 4/4 [00:02<00:00,  1.73it/s]"
          ]
        },
        {
          "output_type": "stream",
          "name": "stdout",
          "text": [
            "                   all        108        177      0.933      0.949      0.971      0.845\n"
          ]
        },
        {
          "output_type": "stream",
          "name": "stderr",
          "text": [
            "\n"
          ]
        },
        {
          "output_type": "stream",
          "name": "stdout",
          "text": [
            "\n",
            "      Epoch    GPU_mem   box_loss   cls_loss   dfl_loss  Instances       Size\n"
          ]
        },
        {
          "output_type": "stream",
          "name": "stderr",
          "text": [
            "      15/30      2.81G      0.623      0.594     0.9579          5        640: 100%|██████████| 19/19 [00:24<00:00,  1.27s/it]\n",
            "                 Class     Images  Instances      Box(P          R      mAP50  mAP50-95): 100%|██████████| 4/4 [00:02<00:00,  1.86it/s]"
          ]
        },
        {
          "output_type": "stream",
          "name": "stdout",
          "text": [
            "                   all        108        177       0.93      0.977      0.962      0.829\n"
          ]
        },
        {
          "output_type": "stream",
          "name": "stderr",
          "text": [
            "\n"
          ]
        },
        {
          "output_type": "stream",
          "name": "stdout",
          "text": [
            "\n",
            "      Epoch    GPU_mem   box_loss   cls_loss   dfl_loss  Instances       Size\n"
          ]
        },
        {
          "output_type": "stream",
          "name": "stderr",
          "text": [
            "      16/30      2.84G     0.6067     0.5866     0.9353          4        640: 100%|██████████| 19/19 [00:23<00:00,  1.24s/it]\n",
            "                 Class     Images  Instances      Box(P          R      mAP50  mAP50-95): 100%|██████████| 4/4 [00:01<00:00,  2.84it/s]"
          ]
        },
        {
          "output_type": "stream",
          "name": "stdout",
          "text": [
            "                   all        108        177      0.949      0.915      0.981      0.836\n"
          ]
        },
        {
          "output_type": "stream",
          "name": "stderr",
          "text": [
            "\n"
          ]
        },
        {
          "output_type": "stream",
          "name": "stdout",
          "text": [
            "\n",
            "      Epoch    GPU_mem   box_loss   cls_loss   dfl_loss  Instances       Size\n"
          ]
        },
        {
          "output_type": "stream",
          "name": "stderr",
          "text": [
            "      17/30      2.86G     0.5818     0.5535     0.9346          7        640: 100%|██████████| 19/19 [00:26<00:00,  1.38s/it]\n",
            "                 Class     Images  Instances      Box(P          R      mAP50  mAP50-95): 100%|██████████| 4/4 [00:01<00:00,  2.61it/s]"
          ]
        },
        {
          "output_type": "stream",
          "name": "stdout",
          "text": [
            "                   all        108        177      0.939      0.959      0.986      0.856\n"
          ]
        },
        {
          "output_type": "stream",
          "name": "stderr",
          "text": [
            "\n"
          ]
        },
        {
          "output_type": "stream",
          "name": "stdout",
          "text": [
            "\n",
            "      Epoch    GPU_mem   box_loss   cls_loss   dfl_loss  Instances       Size\n"
          ]
        },
        {
          "output_type": "stream",
          "name": "stderr",
          "text": [
            "      18/30      2.88G     0.5983     0.5516     0.9282          3        640: 100%|██████████| 19/19 [00:23<00:00,  1.26s/it]\n",
            "                 Class     Images  Instances      Box(P          R      mAP50  mAP50-95): 100%|██████████| 4/4 [00:01<00:00,  2.52it/s]"
          ]
        },
        {
          "output_type": "stream",
          "name": "stdout",
          "text": [
            "                   all        108        177      0.934      0.961      0.981      0.865\n"
          ]
        },
        {
          "output_type": "stream",
          "name": "stderr",
          "text": [
            "\n"
          ]
        },
        {
          "output_type": "stream",
          "name": "stdout",
          "text": [
            "\n",
            "      Epoch    GPU_mem   box_loss   cls_loss   dfl_loss  Instances       Size\n"
          ]
        },
        {
          "output_type": "stream",
          "name": "stderr",
          "text": [
            "      19/30      2.88G     0.6031      0.556     0.9401          7        640: 100%|██████████| 19/19 [00:25<00:00,  1.34s/it]\n",
            "                 Class     Images  Instances      Box(P          R      mAP50  mAP50-95): 100%|██████████| 4/4 [00:01<00:00,  2.55it/s]"
          ]
        },
        {
          "output_type": "stream",
          "name": "stdout",
          "text": [
            "                   all        108        177       0.91      0.975      0.968      0.859\n"
          ]
        },
        {
          "output_type": "stream",
          "name": "stderr",
          "text": [
            "\n"
          ]
        },
        {
          "output_type": "stream",
          "name": "stdout",
          "text": [
            "\n",
            "      Epoch    GPU_mem   box_loss   cls_loss   dfl_loss  Instances       Size\n"
          ]
        },
        {
          "output_type": "stream",
          "name": "stderr",
          "text": [
            "      20/30      2.91G     0.5577     0.5246     0.9195          6        640: 100%|██████████| 19/19 [00:25<00:00,  1.34s/it]\n",
            "                 Class     Images  Instances      Box(P          R      mAP50  mAP50-95): 100%|██████████| 4/4 [00:01<00:00,  2.40it/s]"
          ]
        },
        {
          "output_type": "stream",
          "name": "stdout",
          "text": [
            "                   all        108        177      0.941      0.977      0.987      0.874\n"
          ]
        },
        {
          "output_type": "stream",
          "name": "stderr",
          "text": [
            "\n"
          ]
        },
        {
          "output_type": "stream",
          "name": "stdout",
          "text": [
            "Closing dataloader mosaic\n",
            "\u001b[34m\u001b[1malbumentations: \u001b[0mBlur(p=0.01, blur_limit=(3, 7)), MedianBlur(p=0.01, blur_limit=(3, 7)), ToGray(p=0.01, method='weighted_average', num_output_channels=3), CLAHE(p=0.01, clip_limit=(1.0, 4.0), tile_grid_size=(8, 8))\n",
            "\n",
            "      Epoch    GPU_mem   box_loss   cls_loss   dfl_loss  Instances       Size\n"
          ]
        },
        {
          "output_type": "stream",
          "name": "stderr",
          "text": [
            "      21/30      2.93G     0.5764     0.6144     0.9049          3        640: 100%|██████████| 19/19 [00:36<00:00,  1.90s/it]\n",
            "                 Class     Images  Instances      Box(P          R      mAP50  mAP50-95): 100%|██████████| 4/4 [00:01<00:00,  2.82it/s]"
          ]
        },
        {
          "output_type": "stream",
          "name": "stdout",
          "text": [
            "                   all        108        177      0.955      0.955      0.985      0.864\n"
          ]
        },
        {
          "output_type": "stream",
          "name": "stderr",
          "text": [
            "\n"
          ]
        },
        {
          "output_type": "stream",
          "name": "stdout",
          "text": [
            "\n",
            "      Epoch    GPU_mem   box_loss   cls_loss   dfl_loss  Instances       Size\n"
          ]
        },
        {
          "output_type": "stream",
          "name": "stderr",
          "text": [
            "      22/30      2.94G      0.525     0.5939     0.8927          3        640: 100%|██████████| 19/19 [00:27<00:00,  1.46s/it]\n",
            "                 Class     Images  Instances      Box(P          R      mAP50  mAP50-95): 100%|██████████| 4/4 [00:01<00:00,  2.42it/s]"
          ]
        },
        {
          "output_type": "stream",
          "name": "stdout",
          "text": [
            "                   all        108        177      0.925      0.975      0.983      0.874\n"
          ]
        },
        {
          "output_type": "stream",
          "name": "stderr",
          "text": [
            "\n"
          ]
        },
        {
          "output_type": "stream",
          "name": "stdout",
          "text": [
            "\n",
            "      Epoch    GPU_mem   box_loss   cls_loss   dfl_loss  Instances       Size\n"
          ]
        },
        {
          "output_type": "stream",
          "name": "stderr",
          "text": [
            "      23/30      2.95G     0.4963     0.5708     0.8968          1        640: 100%|██████████| 19/19 [00:28<00:00,  1.48s/it]\n",
            "                 Class     Images  Instances      Box(P          R      mAP50  mAP50-95): 100%|██████████| 4/4 [00:01<00:00,  2.57it/s]\n"
          ]
        },
        {
          "output_type": "stream",
          "name": "stdout",
          "text": [
            "                   all        108        177      0.913      0.983      0.986      0.873\n",
            "\n",
            "      Epoch    GPU_mem   box_loss   cls_loss   dfl_loss  Instances       Size\n"
          ]
        },
        {
          "output_type": "stream",
          "name": "stderr",
          "text": [
            "      24/30      2.98G     0.4927     0.4971     0.8803          3        640: 100%|██████████| 19/19 [00:28<00:00,  1.51s/it]\n",
            "                 Class     Images  Instances      Box(P          R      mAP50  mAP50-95): 100%|██████████| 4/4 [00:02<00:00,  1.70it/s]"
          ]
        },
        {
          "output_type": "stream",
          "name": "stdout",
          "text": [
            "                   all        108        177      0.937      0.989      0.988      0.885\n"
          ]
        },
        {
          "output_type": "stream",
          "name": "stderr",
          "text": [
            "\n"
          ]
        },
        {
          "output_type": "stream",
          "name": "stdout",
          "text": [
            "\n",
            "      Epoch    GPU_mem   box_loss   cls_loss   dfl_loss  Instances       Size\n"
          ]
        },
        {
          "output_type": "stream",
          "name": "stderr",
          "text": [
            "      25/30      2.99G     0.5154     0.5176     0.8931          3        640: 100%|██████████| 19/19 [00:29<00:00,  1.58s/it]\n",
            "                 Class     Images  Instances      Box(P          R      mAP50  mAP50-95): 100%|██████████| 4/4 [00:01<00:00,  2.49it/s]"
          ]
        },
        {
          "output_type": "stream",
          "name": "stdout",
          "text": [
            "                   all        108        177       0.93      0.971      0.987      0.891\n"
          ]
        },
        {
          "output_type": "stream",
          "name": "stderr",
          "text": [
            "\n"
          ]
        },
        {
          "output_type": "stream",
          "name": "stdout",
          "text": [
            "\n",
            "      Epoch    GPU_mem   box_loss   cls_loss   dfl_loss  Instances       Size\n"
          ]
        },
        {
          "output_type": "stream",
          "name": "stderr",
          "text": [
            "      26/30      3.01G     0.4748     0.4427     0.8626          4        640: 100%|██████████| 19/19 [00:29<00:00,  1.55s/it]\n",
            "                 Class     Images  Instances      Box(P          R      mAP50  mAP50-95): 100%|██████████| 4/4 [00:01<00:00,  2.58it/s]"
          ]
        },
        {
          "output_type": "stream",
          "name": "stdout",
          "text": [
            "                   all        108        177      0.959      0.977      0.991      0.902\n"
          ]
        },
        {
          "output_type": "stream",
          "name": "stderr",
          "text": [
            "\n"
          ]
        },
        {
          "output_type": "stream",
          "name": "stdout",
          "text": [
            "\n",
            "      Epoch    GPU_mem   box_loss   cls_loss   dfl_loss  Instances       Size\n"
          ]
        },
        {
          "output_type": "stream",
          "name": "stderr",
          "text": [
            "      27/30      3.02G     0.4523     0.4263     0.8591          2        640: 100%|██████████| 19/19 [00:28<00:00,  1.50s/it]\n",
            "                 Class     Images  Instances      Box(P          R      mAP50  mAP50-95): 100%|██████████| 4/4 [00:01<00:00,  2.67it/s]"
          ]
        },
        {
          "output_type": "stream",
          "name": "stdout",
          "text": [
            "                   all        108        177      0.956      0.988      0.991      0.903\n"
          ]
        },
        {
          "output_type": "stream",
          "name": "stderr",
          "text": [
            "\n"
          ]
        },
        {
          "output_type": "stream",
          "name": "stdout",
          "text": [
            "\n",
            "      Epoch    GPU_mem   box_loss   cls_loss   dfl_loss  Instances       Size\n"
          ]
        },
        {
          "output_type": "stream",
          "name": "stderr",
          "text": [
            "      28/30      3.04G     0.4511      0.453     0.8669          1        640: 100%|██████████| 19/19 [00:28<00:00,  1.51s/it]\n",
            "                 Class     Images  Instances      Box(P          R      mAP50  mAP50-95): 100%|██████████| 4/4 [00:02<00:00,  1.94it/s]"
          ]
        },
        {
          "output_type": "stream",
          "name": "stdout",
          "text": [
            "                   all        108        177      0.961      0.994      0.991      0.909\n"
          ]
        },
        {
          "output_type": "stream",
          "name": "stderr",
          "text": [
            "\n"
          ]
        },
        {
          "output_type": "stream",
          "name": "stdout",
          "text": [
            "\n",
            "      Epoch    GPU_mem   box_loss   cls_loss   dfl_loss  Instances       Size\n"
          ]
        },
        {
          "output_type": "stream",
          "name": "stderr",
          "text": [
            "      29/30      3.06G     0.4584     0.4261     0.8775          2        640: 100%|██████████| 19/19 [00:29<00:00,  1.53s/it]\n",
            "                 Class     Images  Instances      Box(P          R      mAP50  mAP50-95): 100%|██████████| 4/4 [00:01<00:00,  2.13it/s]"
          ]
        },
        {
          "output_type": "stream",
          "name": "stdout",
          "text": [
            "                   all        108        177      0.961      0.985      0.991      0.908\n"
          ]
        },
        {
          "output_type": "stream",
          "name": "stderr",
          "text": [
            "\n"
          ]
        },
        {
          "output_type": "stream",
          "name": "stdout",
          "text": [
            "\n",
            "      Epoch    GPU_mem   box_loss   cls_loss   dfl_loss  Instances       Size\n"
          ]
        },
        {
          "output_type": "stream",
          "name": "stderr",
          "text": [
            "      30/30      3.08G      0.436     0.4332     0.8574          4        640: 100%|██████████| 19/19 [00:28<00:00,  1.49s/it]\n",
            "                 Class     Images  Instances      Box(P          R      mAP50  mAP50-95): 100%|██████████| 4/4 [00:01<00:00,  2.63it/s]"
          ]
        },
        {
          "output_type": "stream",
          "name": "stdout",
          "text": [
            "                   all        108        177      0.967       0.98      0.991      0.904\n"
          ]
        },
        {
          "output_type": "stream",
          "name": "stderr",
          "text": [
            "\n"
          ]
        },
        {
          "output_type": "stream",
          "name": "stdout",
          "text": [
            "\n",
            "30 epochs completed in 0.256 hours.\n",
            "Optimizer stripped from runs/detect/train/weights/last.pt, 6.2MB\n",
            "Optimizer stripped from runs/detect/train/weights/best.pt, 6.2MB\n",
            "\n",
            "Validating runs/detect/train/weights/best.pt...\n",
            "Ultralytics 8.3.138 🚀 Python-3.11.12 torch-2.6.0+cu124 CUDA:0 (Tesla T4, 15095MiB)\n",
            "Model summary (fused): 72 layers, 3,005,843 parameters, 0 gradients, 8.1 GFLOPs\n"
          ]
        },
        {
          "output_type": "stream",
          "name": "stderr",
          "text": [
            "                 Class     Images  Instances      Box(P          R      mAP50  mAP50-95): 100%|██████████| 4/4 [00:12<00:00,  3.16s/it]\n"
          ]
        },
        {
          "output_type": "stream",
          "name": "stdout",
          "text": [
            "                   all        108        177      0.961      0.994      0.991      0.908\n",
            "Speed: 0.3ms preprocess, 2.6ms inference, 0.0ms loss, 3.1ms postprocess per image\n",
            "Results saved to \u001b[1mruns/detect/train\u001b[0m\n"
          ]
        },
        {
          "output_type": "execute_result",
          "data": {
            "text/plain": [
              "ultralytics.utils.metrics.DetMetrics object with attributes:\n",
              "\n",
              "ap_class_index: array([0])\n",
              "box: ultralytics.utils.metrics.Metric object\n",
              "confusion_matrix: <ultralytics.utils.metrics.ConfusionMatrix object at 0x7d5392afab10>\n",
              "curves: ['Precision-Recall(B)', 'F1-Confidence(B)', 'Precision-Confidence(B)', 'Recall-Confidence(B)']\n",
              "curves_results: [[array([          0,    0.001001,    0.002002,    0.003003,    0.004004,    0.005005,    0.006006,    0.007007,    0.008008,    0.009009,     0.01001,    0.011011,    0.012012,    0.013013,    0.014014,    0.015015,    0.016016,    0.017017,    0.018018,    0.019019,     0.02002,    0.021021,    0.022022,    0.023023,\n",
              "          0.024024,    0.025025,    0.026026,    0.027027,    0.028028,    0.029029,     0.03003,    0.031031,    0.032032,    0.033033,    0.034034,    0.035035,    0.036036,    0.037037,    0.038038,    0.039039,     0.04004,    0.041041,    0.042042,    0.043043,    0.044044,    0.045045,    0.046046,    0.047047,\n",
              "          0.048048,    0.049049,     0.05005,    0.051051,    0.052052,    0.053053,    0.054054,    0.055055,    0.056056,    0.057057,    0.058058,    0.059059,     0.06006,    0.061061,    0.062062,    0.063063,    0.064064,    0.065065,    0.066066,    0.067067,    0.068068,    0.069069,     0.07007,    0.071071,\n",
              "          0.072072,    0.073073,    0.074074,    0.075075,    0.076076,    0.077077,    0.078078,    0.079079,     0.08008,    0.081081,    0.082082,    0.083083,    0.084084,    0.085085,    0.086086,    0.087087,    0.088088,    0.089089,     0.09009,    0.091091,    0.092092,    0.093093,    0.094094,    0.095095,\n",
              "          0.096096,    0.097097,    0.098098,    0.099099,      0.1001,      0.1011,      0.1021,      0.1031,      0.1041,     0.10511,     0.10611,     0.10711,     0.10811,     0.10911,     0.11011,     0.11111,     0.11211,     0.11311,     0.11411,     0.11512,     0.11612,     0.11712,     0.11812,     0.11912,\n",
              "           0.12012,     0.12112,     0.12212,     0.12312,     0.12412,     0.12513,     0.12613,     0.12713,     0.12813,     0.12913,     0.13013,     0.13113,     0.13213,     0.13313,     0.13413,     0.13514,     0.13614,     0.13714,     0.13814,     0.13914,     0.14014,     0.14114,     0.14214,     0.14314,\n",
              "           0.14414,     0.14515,     0.14615,     0.14715,     0.14815,     0.14915,     0.15015,     0.15115,     0.15215,     0.15315,     0.15415,     0.15516,     0.15616,     0.15716,     0.15816,     0.15916,     0.16016,     0.16116,     0.16216,     0.16316,     0.16416,     0.16517,     0.16617,     0.16717,\n",
              "           0.16817,     0.16917,     0.17017,     0.17117,     0.17217,     0.17317,     0.17417,     0.17518,     0.17618,     0.17718,     0.17818,     0.17918,     0.18018,     0.18118,     0.18218,     0.18318,     0.18418,     0.18519,     0.18619,     0.18719,     0.18819,     0.18919,     0.19019,     0.19119,\n",
              "           0.19219,     0.19319,     0.19419,      0.1952,      0.1962,      0.1972,      0.1982,      0.1992,      0.2002,      0.2012,      0.2022,      0.2032,      0.2042,     0.20521,     0.20621,     0.20721,     0.20821,     0.20921,     0.21021,     0.21121,     0.21221,     0.21321,     0.21421,     0.21522,\n",
              "           0.21622,     0.21722,     0.21822,     0.21922,     0.22022,     0.22122,     0.22222,     0.22322,     0.22422,     0.22523,     0.22623,     0.22723,     0.22823,     0.22923,     0.23023,     0.23123,     0.23223,     0.23323,     0.23423,     0.23524,     0.23624,     0.23724,     0.23824,     0.23924,\n",
              "           0.24024,     0.24124,     0.24224,     0.24324,     0.24424,     0.24525,     0.24625,     0.24725,     0.24825,     0.24925,     0.25025,     0.25125,     0.25225,     0.25325,     0.25425,     0.25526,     0.25626,     0.25726,     0.25826,     0.25926,     0.26026,     0.26126,     0.26226,     0.26326,\n",
              "           0.26426,     0.26527,     0.26627,     0.26727,     0.26827,     0.26927,     0.27027,     0.27127,     0.27227,     0.27327,     0.27427,     0.27528,     0.27628,     0.27728,     0.27828,     0.27928,     0.28028,     0.28128,     0.28228,     0.28328,     0.28428,     0.28529,     0.28629,     0.28729,\n",
              "           0.28829,     0.28929,     0.29029,     0.29129,     0.29229,     0.29329,     0.29429,      0.2953,      0.2963,      0.2973,      0.2983,      0.2993,      0.3003,      0.3013,      0.3023,      0.3033,      0.3043,     0.30531,     0.30631,     0.30731,     0.30831,     0.30931,     0.31031,     0.31131,\n",
              "           0.31231,     0.31331,     0.31431,     0.31532,     0.31632,     0.31732,     0.31832,     0.31932,     0.32032,     0.32132,     0.32232,     0.32332,     0.32432,     0.32533,     0.32633,     0.32733,     0.32833,     0.32933,     0.33033,     0.33133,     0.33233,     0.33333,     0.33433,     0.33534,\n",
              "           0.33634,     0.33734,     0.33834,     0.33934,     0.34034,     0.34134,     0.34234,     0.34334,     0.34434,     0.34535,     0.34635,     0.34735,     0.34835,     0.34935,     0.35035,     0.35135,     0.35235,     0.35335,     0.35435,     0.35536,     0.35636,     0.35736,     0.35836,     0.35936,\n",
              "           0.36036,     0.36136,     0.36236,     0.36336,     0.36436,     0.36537,     0.36637,     0.36737,     0.36837,     0.36937,     0.37037,     0.37137,     0.37237,     0.37337,     0.37437,     0.37538,     0.37638,     0.37738,     0.37838,     0.37938,     0.38038,     0.38138,     0.38238,     0.38338,\n",
              "           0.38438,     0.38539,     0.38639,     0.38739,     0.38839,     0.38939,     0.39039,     0.39139,     0.39239,     0.39339,     0.39439,      0.3954,      0.3964,      0.3974,      0.3984,      0.3994,      0.4004,      0.4014,      0.4024,      0.4034,      0.4044,     0.40541,     0.40641,     0.40741,\n",
              "           0.40841,     0.40941,     0.41041,     0.41141,     0.41241,     0.41341,     0.41441,     0.41542,     0.41642,     0.41742,     0.41842,     0.41942,     0.42042,     0.42142,     0.42242,     0.42342,     0.42442,     0.42543,     0.42643,     0.42743,     0.42843,     0.42943,     0.43043,     0.43143,\n",
              "           0.43243,     0.43343,     0.43443,     0.43544,     0.43644,     0.43744,     0.43844,     0.43944,     0.44044,     0.44144,     0.44244,     0.44344,     0.44444,     0.44545,     0.44645,     0.44745,     0.44845,     0.44945,     0.45045,     0.45145,     0.45245,     0.45345,     0.45445,     0.45546,\n",
              "           0.45646,     0.45746,     0.45846,     0.45946,     0.46046,     0.46146,     0.46246,     0.46346,     0.46446,     0.46547,     0.46647,     0.46747,     0.46847,     0.46947,     0.47047,     0.47147,     0.47247,     0.47347,     0.47447,     0.47548,     0.47648,     0.47748,     0.47848,     0.47948,\n",
              "           0.48048,     0.48148,     0.48248,     0.48348,     0.48448,     0.48549,     0.48649,     0.48749,     0.48849,     0.48949,     0.49049,     0.49149,     0.49249,     0.49349,     0.49449,      0.4955,      0.4965,      0.4975,      0.4985,      0.4995,      0.5005,      0.5015,      0.5025,      0.5035,\n",
              "            0.5045,     0.50551,     0.50651,     0.50751,     0.50851,     0.50951,     0.51051,     0.51151,     0.51251,     0.51351,     0.51451,     0.51552,     0.51652,     0.51752,     0.51852,     0.51952,     0.52052,     0.52152,     0.52252,     0.52352,     0.52452,     0.52553,     0.52653,     0.52753,\n",
              "           0.52853,     0.52953,     0.53053,     0.53153,     0.53253,     0.53353,     0.53453,     0.53554,     0.53654,     0.53754,     0.53854,     0.53954,     0.54054,     0.54154,     0.54254,     0.54354,     0.54454,     0.54555,     0.54655,     0.54755,     0.54855,     0.54955,     0.55055,     0.55155,\n",
              "           0.55255,     0.55355,     0.55455,     0.55556,     0.55656,     0.55756,     0.55856,     0.55956,     0.56056,     0.56156,     0.56256,     0.56356,     0.56456,     0.56557,     0.56657,     0.56757,     0.56857,     0.56957,     0.57057,     0.57157,     0.57257,     0.57357,     0.57457,     0.57558,\n",
              "           0.57658,     0.57758,     0.57858,     0.57958,     0.58058,     0.58158,     0.58258,     0.58358,     0.58458,     0.58559,     0.58659,     0.58759,     0.58859,     0.58959,     0.59059,     0.59159,     0.59259,     0.59359,     0.59459,      0.5956,      0.5966,      0.5976,      0.5986,      0.5996,\n",
              "            0.6006,      0.6016,      0.6026,      0.6036,      0.6046,     0.60561,     0.60661,     0.60761,     0.60861,     0.60961,     0.61061,     0.61161,     0.61261,     0.61361,     0.61461,     0.61562,     0.61662,     0.61762,     0.61862,     0.61962,     0.62062,     0.62162,     0.62262,     0.62362,\n",
              "           0.62462,     0.62563,     0.62663,     0.62763,     0.62863,     0.62963,     0.63063,     0.63163,     0.63263,     0.63363,     0.63463,     0.63564,     0.63664,     0.63764,     0.63864,     0.63964,     0.64064,     0.64164,     0.64264,     0.64364,     0.64464,     0.64565,     0.64665,     0.64765,\n",
              "           0.64865,     0.64965,     0.65065,     0.65165,     0.65265,     0.65365,     0.65465,     0.65566,     0.65666,     0.65766,     0.65866,     0.65966,     0.66066,     0.66166,     0.66266,     0.66366,     0.66466,     0.66567,     0.66667,     0.66767,     0.66867,     0.66967,     0.67067,     0.67167,\n",
              "           0.67267,     0.67367,     0.67467,     0.67568,     0.67668,     0.67768,     0.67868,     0.67968,     0.68068,     0.68168,     0.68268,     0.68368,     0.68468,     0.68569,     0.68669,     0.68769,     0.68869,     0.68969,     0.69069,     0.69169,     0.69269,     0.69369,     0.69469,      0.6957,\n",
              "            0.6967,      0.6977,      0.6987,      0.6997,      0.7007,      0.7017,      0.7027,      0.7037,      0.7047,     0.70571,     0.70671,     0.70771,     0.70871,     0.70971,     0.71071,     0.71171,     0.71271,     0.71371,     0.71471,     0.71572,     0.71672,     0.71772,     0.71872,     0.71972,\n",
              "           0.72072,     0.72172,     0.72272,     0.72372,     0.72472,     0.72573,     0.72673,     0.72773,     0.72873,     0.72973,     0.73073,     0.73173,     0.73273,     0.73373,     0.73473,     0.73574,     0.73674,     0.73774,     0.73874,     0.73974,     0.74074,     0.74174,     0.74274,     0.74374,\n",
              "           0.74474,     0.74575,     0.74675,     0.74775,     0.74875,     0.74975,     0.75075,     0.75175,     0.75275,     0.75375,     0.75475,     0.75576,     0.75676,     0.75776,     0.75876,     0.75976,     0.76076,     0.76176,     0.76276,     0.76376,     0.76476,     0.76577,     0.76677,     0.76777,\n",
              "           0.76877,     0.76977,     0.77077,     0.77177,     0.77277,     0.77377,     0.77477,     0.77578,     0.77678,     0.77778,     0.77878,     0.77978,     0.78078,     0.78178,     0.78278,     0.78378,     0.78478,     0.78579,     0.78679,     0.78779,     0.78879,     0.78979,     0.79079,     0.79179,\n",
              "           0.79279,     0.79379,     0.79479,      0.7958,      0.7968,      0.7978,      0.7988,      0.7998,      0.8008,      0.8018,      0.8028,      0.8038,      0.8048,     0.80581,     0.80681,     0.80781,     0.80881,     0.80981,     0.81081,     0.81181,     0.81281,     0.81381,     0.81481,     0.81582,\n",
              "           0.81682,     0.81782,     0.81882,     0.81982,     0.82082,     0.82182,     0.82282,     0.82382,     0.82482,     0.82583,     0.82683,     0.82783,     0.82883,     0.82983,     0.83083,     0.83183,     0.83283,     0.83383,     0.83483,     0.83584,     0.83684,     0.83784,     0.83884,     0.83984,\n",
              "           0.84084,     0.84184,     0.84284,     0.84384,     0.84484,     0.84585,     0.84685,     0.84785,     0.84885,     0.84985,     0.85085,     0.85185,     0.85285,     0.85385,     0.85485,     0.85586,     0.85686,     0.85786,     0.85886,     0.85986,     0.86086,     0.86186,     0.86286,     0.86386,\n",
              "           0.86486,     0.86587,     0.86687,     0.86787,     0.86887,     0.86987,     0.87087,     0.87187,     0.87287,     0.87387,     0.87487,     0.87588,     0.87688,     0.87788,     0.87888,     0.87988,     0.88088,     0.88188,     0.88288,     0.88388,     0.88488,     0.88589,     0.88689,     0.88789,\n",
              "           0.88889,     0.88989,     0.89089,     0.89189,     0.89289,     0.89389,     0.89489,      0.8959,      0.8969,      0.8979,      0.8989,      0.8999,      0.9009,      0.9019,      0.9029,      0.9039,      0.9049,     0.90591,     0.90691,     0.90791,     0.90891,     0.90991,     0.91091,     0.91191,\n",
              "           0.91291,     0.91391,     0.91491,     0.91592,     0.91692,     0.91792,     0.91892,     0.91992,     0.92092,     0.92192,     0.92292,     0.92392,     0.92492,     0.92593,     0.92693,     0.92793,     0.92893,     0.92993,     0.93093,     0.93193,     0.93293,     0.93393,     0.93493,     0.93594,\n",
              "           0.93694,     0.93794,     0.93894,     0.93994,     0.94094,     0.94194,     0.94294,     0.94394,     0.94494,     0.94595,     0.94695,     0.94795,     0.94895,     0.94995,     0.95095,     0.95195,     0.95295,     0.95395,     0.95495,     0.95596,     0.95696,     0.95796,     0.95896,     0.95996,\n",
              "           0.96096,     0.96196,     0.96296,     0.96396,     0.96496,     0.96597,     0.96697,     0.96797,     0.96897,     0.96997,     0.97097,     0.97197,     0.97297,     0.97397,     0.97497,     0.97598,     0.97698,     0.97798,     0.97898,     0.97998,     0.98098,     0.98198,     0.98298,     0.98398,\n",
              "           0.98498,     0.98599,     0.98699,     0.98799,     0.98899,     0.98999,     0.99099,     0.99199,     0.99299,     0.99399,     0.99499,       0.996,       0.997,       0.998,       0.999,           1]), array([[          1,           1,           1,           1,           1,           1,           1,           1,           1,           1,           1,           1,           1,           1,           1,           1,           1,           1,           1,           1,           1,           1,           1,\n",
              "                  1,           1,           1,           1,           1,           1,           1,           1,           1,           1,           1,           1,           1,           1,           1,           1,           1,           1,           1,           1,           1,           1,           1,\n",
              "                  1,           1,           1,           1,           1,           1,           1,           1,           1,           1,           1,           1,           1,           1,           1,           1,           1,           1,           1,           1,           1,           1,           1,\n",
              "                  1,           1,           1,           1,           1,           1,           1,           1,           1,           1,           1,           1,           1,           1,           1,           1,           1,           1,           1,           1,           1,           1,           1,\n",
              "                  1,           1,           1,           1,           1,           1,           1,           1,           1,           1,           1,           1,           1,           1,           1,           1,           1,           1,           1,           1,           1,           1,           1,\n",
              "                  1,           1,           1,           1,           1,           1,           1,           1,           1,           1,           1,           1,           1,           1,           1,           1,           1,           1,           1,           1,           1,           1,           1,\n",
              "                  1,           1,           1,           1,           1,           1,           1,           1,           1,           1,           1,           1,           1,           1,           1,           1,           1,           1,           1,           1,           1,           1,           1,\n",
              "                  1,           1,           1,           1,           1,           1,           1,           1,           1,           1,           1,           1,           1,           1,           1,           1,           1,           1,           1,           1,           1,           1,           1,\n",
              "                  1,           1,           1,           1,           1,           1,           1,           1,           1,           1,           1,           1,           1,           1,           1,           1,           1,           1,           1,           1,           1,           1,           1,\n",
              "                  1,           1,           1,           1,           1,           1,           1,           1,           1,           1,           1,           1,           1,           1,           1,           1,           1,           1,           1,           1,           1,           1,           1,\n",
              "                  1,           1,           1,           1,           1,           1,           1,           1,           1,           1,           1,           1,           1,           1,           1,           1,           1,           1,           1,           1,           1,           1,           1,\n",
              "                  1,           1,           1,           1,           1,           1,           1,           1,           1,           1,           1,           1,           1,           1,           1,           1,           1,           1,           1,           1,           1,           1,           1,\n",
              "                  1,           1,           1,           1,           1,           1,           1,           1,           1,           1,           1,           1,           1,           1,           1,           1,           1,           1,           1,           1,           1,           1,           1,\n",
              "                  1,           1,           1,           1,           1,           1,           1,           1,           1,           1,           1,           1,           1,           1,           1,           1,           1,           1,           1,           1,           1,           1,           1,\n",
              "                  1,           1,           1,           1,           1,           1,           1,           1,           1,           1,           1,           1,           1,           1,           1,           1,           1,           1,           1,           1,           1,           1,           1,\n",
              "                  1,           1,           1,           1,           1,           1,           1,           1,           1,           1,           1,           1,           1,           1,           1,           1,           1,           1,           1,           1,           1,           1,           1,\n",
              "                  1,           1,           1,           1,           1,           1,           1,           1,           1,           1,           1,           1,           1,           1,           1,           1,           1,           1,           1,           1,           1,           1,           1,\n",
              "                  1,           1,           1,           1,           1,           1,           1,           1,           1,           1,           1,           1,           1,           1,           1,           1,           1,           1,           1,           1,           1,           1,           1,\n",
              "                  1,           1,           1,           1,           1,           1,           1,           1,           1,           1,           1,           1,           1,           1,           1,           1,           1,           1,           1,           1,           1,           1,           1,\n",
              "                  1,           1,           1,           1,           1,           1,           1,           1,           1,           1,           1,           1,           1,           1,           1,           1,           1,           1,           1,           1,           1,           1,           1,\n",
              "                  1,           1,           1,           1,           1,           1,           1,           1,           1,           1,           1,           1,           1,           1,           1,           1,           1,           1,           1,           1,           1,           1,           1,\n",
              "                  1,           1,           1,           1,           1,           1,           1,           1,           1,           1,           1,           1,           1,           1,           1,           1,           1,           1,           1,           1,           1,           1,           1,\n",
              "                  1,           1,           1,           1,           1,           1,           1,           1,           1,           1,           1,           1,           1,           1,           1,           1,           1,           1,           1,           1,           1,           1,           1,\n",
              "                  1,           1,           1,           1,           1,           1,           1,           1,           1,           1,           1,           1,           1,           1,           1,           1,           1,           1,           1,           1,           1,           1,           1,\n",
              "                  1,           1,           1,           1,           1,           1,           1,           1,           1,           1,           1,           1,           1,           1,           1,           1,           1,           1,           1,           1,           1,           1,           1,\n",
              "                  1,           1,           1,           1,           1,           1,           1,           1,           1,           1,           1,           1,           1,           1,           1,           1,           1,           1,           1,           1,           1,           1,           1,\n",
              "                  1,           1,           1,           1,           1,           1,           1,           1,           1,           1,           1,           1,           1,           1,           1,           1,           1,           1,           1,           1,           1,           1,           1,\n",
              "                  1,           1,           1,           1,           1,           1,           1,           1,           1,           1,           1,           1,           1,           1,           1,           1,           1,           1,           1,           1,           1,           1,           1,\n",
              "                  1,           1,           1,           1,           1,           1,           1,           1,           1,           1,           1,           1,           1,           1,           1,           1,           1,           1,           1,           1,           1,           1,           1,\n",
              "                  1,           1,           1,           1,           1,           1,           1,           1,           1,           1,           1,           1,           1,           1,           1,           1,           1,           1,           1,           1,           1,           1,           1,\n",
              "                  1,           1,           1,           1,           1,           1,           1,           1,           1,           1,           1,           1,           1,           1,           1,           1,           1,           1,           1,           1,           1,           1,           1,\n",
              "                  1,           1,           1,           1,           1,           1,           1,           1,           1,           1,           1,           1,           1,           1,           1,           1,     0.99342,     0.99342,     0.99342,     0.99342,     0.99342,     0.99342,     0.99342,\n",
              "            0.99342,     0.99342,     0.99342,     0.99342,     0.99342,     0.99342,     0.99342,     0.99342,     0.99342,     0.99342,     0.99342,     0.99342,     0.99342,     0.99342,     0.99342,     0.99342,     0.99342,     0.99342,     0.99342,     0.99342,     0.99342,     0.99342,     0.99342,\n",
              "            0.99342,     0.99342,     0.99342,     0.99342,     0.99342,     0.99342,     0.99342,     0.99342,     0.99342,     0.99342,     0.99342,     0.99342,     0.99342,     0.99342,     0.99342,     0.99342,     0.99342,     0.99342,     0.99342,     0.99342,     0.99342,     0.99342,     0.99342,\n",
              "            0.99342,     0.99342,     0.99342,     0.99342,     0.99342,     0.99342,     0.99342,     0.99342,     0.99342,     0.99342,     0.99342,     0.99342,     0.99342,     0.99342,     0.99342,     0.99342,     0.99342,     0.99342,     0.99342,     0.99342,     0.99342,     0.99342,     0.99342,\n",
              "            0.99342,     0.99342,     0.99342,     0.99342,     0.99342,     0.99342,     0.99342,     0.99342,     0.99342,     0.99342,     0.99342,     0.99342,     0.99342,     0.99342,     0.99342,     0.99342,     0.99342,     0.99342,     0.99342,     0.99342,     0.99342,     0.99342,     0.99342,\n",
              "            0.99342,     0.99342,     0.99342,     0.99342,     0.99342,     0.99342,     0.99342,     0.99342,     0.99342,     0.99342,     0.99342,     0.99342,     0.99342,     0.99342,     0.99342,     0.99342,     0.99342,     0.99342,     0.99342,     0.99342,     0.99342,     0.99342,     0.99342,\n",
              "            0.99342,     0.99342,     0.98788,     0.98788,     0.98788,     0.98788,     0.98788,     0.98788,     0.98788,     0.98788,     0.98788,     0.98788,     0.98788,     0.98788,     0.98788,     0.98788,     0.98788,     0.98788,     0.98788,     0.98788,     0.98788,     0.98788,     0.98788,\n",
              "            0.98788,     0.98788,     0.98788,     0.98788,     0.98788,     0.98788,     0.98788,     0.98788,     0.98788,     0.98788,     0.98788,     0.98788,     0.98788,     0.98788,     0.98788,     0.98788,     0.98788,     0.98788,     0.98788,     0.98788,     0.98788,     0.98788,     0.98788,\n",
              "            0.98788,     0.98788,     0.98788,     0.98788,     0.98788,     0.98788,     0.98788,     0.98788,     0.98788,     0.98788,     0.98788,     0.98788,     0.98788,     0.98788,     0.98788,     0.98788,     0.98788,     0.98788,     0.98788,     0.98788,     0.98788,     0.98788,     0.98788,\n",
              "            0.98225,     0.98225,     0.98225,     0.98225,     0.98225,     0.98225,     0.98225,     0.98225,     0.98225,     0.98225,     0.98225,     0.98225,     0.98225,     0.98225,     0.98225,     0.98225,     0.98225,     0.97688,     0.97688,     0.97688,     0.97688,     0.97688,     0.97688,\n",
              "            0.97688,     0.97688,     0.97688,     0.97688,     0.97688,     0.97688,     0.97688,     0.97688,     0.97688,     0.97688,     0.97688,     0.97175,     0.97175,     0.97175,     0.97175,     0.97175,     0.97175,     0.97175,     0.97175,     0.97175,     0.97175,     0.97175,     0.97175,\n",
              "            0.97175,     0.97175,     0.97175,     0.97175,     0.97175,     0.96648,     0.96648,     0.96648,     0.96648,     0.96648,     0.96648,     0.96175,     0.96175,     0.96175,     0.96175,     0.96175,     0.96175,     0.96175,     0.96175,     0.96175,     0.96175,     0.96175,     0.96175,\n",
              "            0.96175,     0.96175,     0.96175,     0.96175,     0.96175,      0.9171,      0.9171,      0.9171,      0.9171,      0.9171,           0]]), 'Recall', 'Precision'], [array([          0,    0.001001,    0.002002,    0.003003,    0.004004,    0.005005,    0.006006,    0.007007,    0.008008,    0.009009,     0.01001,    0.011011,    0.012012,    0.013013,    0.014014,    0.015015,    0.016016,    0.017017,    0.018018,    0.019019,     0.02002,    0.021021,    0.022022,    0.023023,\n",
              "          0.024024,    0.025025,    0.026026,    0.027027,    0.028028,    0.029029,     0.03003,    0.031031,    0.032032,    0.033033,    0.034034,    0.035035,    0.036036,    0.037037,    0.038038,    0.039039,     0.04004,    0.041041,    0.042042,    0.043043,    0.044044,    0.045045,    0.046046,    0.047047,\n",
              "          0.048048,    0.049049,     0.05005,    0.051051,    0.052052,    0.053053,    0.054054,    0.055055,    0.056056,    0.057057,    0.058058,    0.059059,     0.06006,    0.061061,    0.062062,    0.063063,    0.064064,    0.065065,    0.066066,    0.067067,    0.068068,    0.069069,     0.07007,    0.071071,\n",
              "          0.072072,    0.073073,    0.074074,    0.075075,    0.076076,    0.077077,    0.078078,    0.079079,     0.08008,    0.081081,    0.082082,    0.083083,    0.084084,    0.085085,    0.086086,    0.087087,    0.088088,    0.089089,     0.09009,    0.091091,    0.092092,    0.093093,    0.094094,    0.095095,\n",
              "          0.096096,    0.097097,    0.098098,    0.099099,      0.1001,      0.1011,      0.1021,      0.1031,      0.1041,     0.10511,     0.10611,     0.10711,     0.10811,     0.10911,     0.11011,     0.11111,     0.11211,     0.11311,     0.11411,     0.11512,     0.11612,     0.11712,     0.11812,     0.11912,\n",
              "           0.12012,     0.12112,     0.12212,     0.12312,     0.12412,     0.12513,     0.12613,     0.12713,     0.12813,     0.12913,     0.13013,     0.13113,     0.13213,     0.13313,     0.13413,     0.13514,     0.13614,     0.13714,     0.13814,     0.13914,     0.14014,     0.14114,     0.14214,     0.14314,\n",
              "           0.14414,     0.14515,     0.14615,     0.14715,     0.14815,     0.14915,     0.15015,     0.15115,     0.15215,     0.15315,     0.15415,     0.15516,     0.15616,     0.15716,     0.15816,     0.15916,     0.16016,     0.16116,     0.16216,     0.16316,     0.16416,     0.16517,     0.16617,     0.16717,\n",
              "           0.16817,     0.16917,     0.17017,     0.17117,     0.17217,     0.17317,     0.17417,     0.17518,     0.17618,     0.17718,     0.17818,     0.17918,     0.18018,     0.18118,     0.18218,     0.18318,     0.18418,     0.18519,     0.18619,     0.18719,     0.18819,     0.18919,     0.19019,     0.19119,\n",
              "           0.19219,     0.19319,     0.19419,      0.1952,      0.1962,      0.1972,      0.1982,      0.1992,      0.2002,      0.2012,      0.2022,      0.2032,      0.2042,     0.20521,     0.20621,     0.20721,     0.20821,     0.20921,     0.21021,     0.21121,     0.21221,     0.21321,     0.21421,     0.21522,\n",
              "           0.21622,     0.21722,     0.21822,     0.21922,     0.22022,     0.22122,     0.22222,     0.22322,     0.22422,     0.22523,     0.22623,     0.22723,     0.22823,     0.22923,     0.23023,     0.23123,     0.23223,     0.23323,     0.23423,     0.23524,     0.23624,     0.23724,     0.23824,     0.23924,\n",
              "           0.24024,     0.24124,     0.24224,     0.24324,     0.24424,     0.24525,     0.24625,     0.24725,     0.24825,     0.24925,     0.25025,     0.25125,     0.25225,     0.25325,     0.25425,     0.25526,     0.25626,     0.25726,     0.25826,     0.25926,     0.26026,     0.26126,     0.26226,     0.26326,\n",
              "           0.26426,     0.26527,     0.26627,     0.26727,     0.26827,     0.26927,     0.27027,     0.27127,     0.27227,     0.27327,     0.27427,     0.27528,     0.27628,     0.27728,     0.27828,     0.27928,     0.28028,     0.28128,     0.28228,     0.28328,     0.28428,     0.28529,     0.28629,     0.28729,\n",
              "           0.28829,     0.28929,     0.29029,     0.29129,     0.29229,     0.29329,     0.29429,      0.2953,      0.2963,      0.2973,      0.2983,      0.2993,      0.3003,      0.3013,      0.3023,      0.3033,      0.3043,     0.30531,     0.30631,     0.30731,     0.30831,     0.30931,     0.31031,     0.31131,\n",
              "           0.31231,     0.31331,     0.31431,     0.31532,     0.31632,     0.31732,     0.31832,     0.31932,     0.32032,     0.32132,     0.32232,     0.32332,     0.32432,     0.32533,     0.32633,     0.32733,     0.32833,     0.32933,     0.33033,     0.33133,     0.33233,     0.33333,     0.33433,     0.33534,\n",
              "           0.33634,     0.33734,     0.33834,     0.33934,     0.34034,     0.34134,     0.34234,     0.34334,     0.34434,     0.34535,     0.34635,     0.34735,     0.34835,     0.34935,     0.35035,     0.35135,     0.35235,     0.35335,     0.35435,     0.35536,     0.35636,     0.35736,     0.35836,     0.35936,\n",
              "           0.36036,     0.36136,     0.36236,     0.36336,     0.36436,     0.36537,     0.36637,     0.36737,     0.36837,     0.36937,     0.37037,     0.37137,     0.37237,     0.37337,     0.37437,     0.37538,     0.37638,     0.37738,     0.37838,     0.37938,     0.38038,     0.38138,     0.38238,     0.38338,\n",
              "           0.38438,     0.38539,     0.38639,     0.38739,     0.38839,     0.38939,     0.39039,     0.39139,     0.39239,     0.39339,     0.39439,      0.3954,      0.3964,      0.3974,      0.3984,      0.3994,      0.4004,      0.4014,      0.4024,      0.4034,      0.4044,     0.40541,     0.40641,     0.40741,\n",
              "           0.40841,     0.40941,     0.41041,     0.41141,     0.41241,     0.41341,     0.41441,     0.41542,     0.41642,     0.41742,     0.41842,     0.41942,     0.42042,     0.42142,     0.42242,     0.42342,     0.42442,     0.42543,     0.42643,     0.42743,     0.42843,     0.42943,     0.43043,     0.43143,\n",
              "           0.43243,     0.43343,     0.43443,     0.43544,     0.43644,     0.43744,     0.43844,     0.43944,     0.44044,     0.44144,     0.44244,     0.44344,     0.44444,     0.44545,     0.44645,     0.44745,     0.44845,     0.44945,     0.45045,     0.45145,     0.45245,     0.45345,     0.45445,     0.45546,\n",
              "           0.45646,     0.45746,     0.45846,     0.45946,     0.46046,     0.46146,     0.46246,     0.46346,     0.46446,     0.46547,     0.46647,     0.46747,     0.46847,     0.46947,     0.47047,     0.47147,     0.47247,     0.47347,     0.47447,     0.47548,     0.47648,     0.47748,     0.47848,     0.47948,\n",
              "           0.48048,     0.48148,     0.48248,     0.48348,     0.48448,     0.48549,     0.48649,     0.48749,     0.48849,     0.48949,     0.49049,     0.49149,     0.49249,     0.49349,     0.49449,      0.4955,      0.4965,      0.4975,      0.4985,      0.4995,      0.5005,      0.5015,      0.5025,      0.5035,\n",
              "            0.5045,     0.50551,     0.50651,     0.50751,     0.50851,     0.50951,     0.51051,     0.51151,     0.51251,     0.51351,     0.51451,     0.51552,     0.51652,     0.51752,     0.51852,     0.51952,     0.52052,     0.52152,     0.52252,     0.52352,     0.52452,     0.52553,     0.52653,     0.52753,\n",
              "           0.52853,     0.52953,     0.53053,     0.53153,     0.53253,     0.53353,     0.53453,     0.53554,     0.53654,     0.53754,     0.53854,     0.53954,     0.54054,     0.54154,     0.54254,     0.54354,     0.54454,     0.54555,     0.54655,     0.54755,     0.54855,     0.54955,     0.55055,     0.55155,\n",
              "           0.55255,     0.55355,     0.55455,     0.55556,     0.55656,     0.55756,     0.55856,     0.55956,     0.56056,     0.56156,     0.56256,     0.56356,     0.56456,     0.56557,     0.56657,     0.56757,     0.56857,     0.56957,     0.57057,     0.57157,     0.57257,     0.57357,     0.57457,     0.57558,\n",
              "           0.57658,     0.57758,     0.57858,     0.57958,     0.58058,     0.58158,     0.58258,     0.58358,     0.58458,     0.58559,     0.58659,     0.58759,     0.58859,     0.58959,     0.59059,     0.59159,     0.59259,     0.59359,     0.59459,      0.5956,      0.5966,      0.5976,      0.5986,      0.5996,\n",
              "            0.6006,      0.6016,      0.6026,      0.6036,      0.6046,     0.60561,     0.60661,     0.60761,     0.60861,     0.60961,     0.61061,     0.61161,     0.61261,     0.61361,     0.61461,     0.61562,     0.61662,     0.61762,     0.61862,     0.61962,     0.62062,     0.62162,     0.62262,     0.62362,\n",
              "           0.62462,     0.62563,     0.62663,     0.62763,     0.62863,     0.62963,     0.63063,     0.63163,     0.63263,     0.63363,     0.63463,     0.63564,     0.63664,     0.63764,     0.63864,     0.63964,     0.64064,     0.64164,     0.64264,     0.64364,     0.64464,     0.64565,     0.64665,     0.64765,\n",
              "           0.64865,     0.64965,     0.65065,     0.65165,     0.65265,     0.65365,     0.65465,     0.65566,     0.65666,     0.65766,     0.65866,     0.65966,     0.66066,     0.66166,     0.66266,     0.66366,     0.66466,     0.66567,     0.66667,     0.66767,     0.66867,     0.66967,     0.67067,     0.67167,\n",
              "           0.67267,     0.67367,     0.67467,     0.67568,     0.67668,     0.67768,     0.67868,     0.67968,     0.68068,     0.68168,     0.68268,     0.68368,     0.68468,     0.68569,     0.68669,     0.68769,     0.68869,     0.68969,     0.69069,     0.69169,     0.69269,     0.69369,     0.69469,      0.6957,\n",
              "            0.6967,      0.6977,      0.6987,      0.6997,      0.7007,      0.7017,      0.7027,      0.7037,      0.7047,     0.70571,     0.70671,     0.70771,     0.70871,     0.70971,     0.71071,     0.71171,     0.71271,     0.71371,     0.71471,     0.71572,     0.71672,     0.71772,     0.71872,     0.71972,\n",
              "           0.72072,     0.72172,     0.72272,     0.72372,     0.72472,     0.72573,     0.72673,     0.72773,     0.72873,     0.72973,     0.73073,     0.73173,     0.73273,     0.73373,     0.73473,     0.73574,     0.73674,     0.73774,     0.73874,     0.73974,     0.74074,     0.74174,     0.74274,     0.74374,\n",
              "           0.74474,     0.74575,     0.74675,     0.74775,     0.74875,     0.74975,     0.75075,     0.75175,     0.75275,     0.75375,     0.75475,     0.75576,     0.75676,     0.75776,     0.75876,     0.75976,     0.76076,     0.76176,     0.76276,     0.76376,     0.76476,     0.76577,     0.76677,     0.76777,\n",
              "           0.76877,     0.76977,     0.77077,     0.77177,     0.77277,     0.77377,     0.77477,     0.77578,     0.77678,     0.77778,     0.77878,     0.77978,     0.78078,     0.78178,     0.78278,     0.78378,     0.78478,     0.78579,     0.78679,     0.78779,     0.78879,     0.78979,     0.79079,     0.79179,\n",
              "           0.79279,     0.79379,     0.79479,      0.7958,      0.7968,      0.7978,      0.7988,      0.7998,      0.8008,      0.8018,      0.8028,      0.8038,      0.8048,     0.80581,     0.80681,     0.80781,     0.80881,     0.80981,     0.81081,     0.81181,     0.81281,     0.81381,     0.81481,     0.81582,\n",
              "           0.81682,     0.81782,     0.81882,     0.81982,     0.82082,     0.82182,     0.82282,     0.82382,     0.82482,     0.82583,     0.82683,     0.82783,     0.82883,     0.82983,     0.83083,     0.83183,     0.83283,     0.83383,     0.83483,     0.83584,     0.83684,     0.83784,     0.83884,     0.83984,\n",
              "           0.84084,     0.84184,     0.84284,     0.84384,     0.84484,     0.84585,     0.84685,     0.84785,     0.84885,     0.84985,     0.85085,     0.85185,     0.85285,     0.85385,     0.85485,     0.85586,     0.85686,     0.85786,     0.85886,     0.85986,     0.86086,     0.86186,     0.86286,     0.86386,\n",
              "           0.86486,     0.86587,     0.86687,     0.86787,     0.86887,     0.86987,     0.87087,     0.87187,     0.87287,     0.87387,     0.87487,     0.87588,     0.87688,     0.87788,     0.87888,     0.87988,     0.88088,     0.88188,     0.88288,     0.88388,     0.88488,     0.88589,     0.88689,     0.88789,\n",
              "           0.88889,     0.88989,     0.89089,     0.89189,     0.89289,     0.89389,     0.89489,      0.8959,      0.8969,      0.8979,      0.8989,      0.8999,      0.9009,      0.9019,      0.9029,      0.9039,      0.9049,     0.90591,     0.90691,     0.90791,     0.90891,     0.90991,     0.91091,     0.91191,\n",
              "           0.91291,     0.91391,     0.91491,     0.91592,     0.91692,     0.91792,     0.91892,     0.91992,     0.92092,     0.92192,     0.92292,     0.92392,     0.92492,     0.92593,     0.92693,     0.92793,     0.92893,     0.92993,     0.93093,     0.93193,     0.93293,     0.93393,     0.93493,     0.93594,\n",
              "           0.93694,     0.93794,     0.93894,     0.93994,     0.94094,     0.94194,     0.94294,     0.94394,     0.94494,     0.94595,     0.94695,     0.94795,     0.94895,     0.94995,     0.95095,     0.95195,     0.95295,     0.95395,     0.95495,     0.95596,     0.95696,     0.95796,     0.95896,     0.95996,\n",
              "           0.96096,     0.96196,     0.96296,     0.96396,     0.96496,     0.96597,     0.96697,     0.96797,     0.96897,     0.96997,     0.97097,     0.97197,     0.97297,     0.97397,     0.97497,     0.97598,     0.97698,     0.97798,     0.97898,     0.97998,     0.98098,     0.98198,     0.98298,     0.98398,\n",
              "           0.98498,     0.98599,     0.98699,     0.98799,     0.98899,     0.98999,     0.99099,     0.99199,     0.99299,     0.99399,     0.99499,       0.996,       0.997,       0.998,       0.999,           1]), array([[   0.023992,    0.023992,    0.070601,     0.26162,     0.43431,      0.5348,      0.6052,     0.65902,     0.69707,      0.7282,     0.75358,      0.7626,     0.77323,     0.78541,     0.78948,     0.80455,     0.81157,     0.81861,     0.82784,     0.83208,     0.83995,     0.85273,     0.85808,\n",
              "            0.86185,      0.8672,     0.87032,      0.8711,     0.87189,     0.87635,      0.8767,     0.87705,      0.8774,     0.87774,     0.87809,     0.87895,     0.88431,     0.88572,     0.88676,     0.89024,     0.89165,     0.89422,     0.89536,     0.89706,     0.90084,     0.90133,     0.90182,\n",
              "             0.9023,     0.90279,     0.90319,     0.90347,     0.90375,     0.90403,     0.90431,     0.90459,     0.90488,     0.90516,     0.90547,     0.90588,      0.9063,     0.90671,     0.90713,     0.90754,     0.90812,      0.9088,     0.90947,      0.9103,     0.91178,     0.91326,     0.91473,\n",
              "            0.91483,     0.91494,     0.91504,     0.91514,     0.91525,     0.91535,     0.91545,     0.91556,     0.91566,     0.91576,     0.91587,     0.91597,     0.91607,     0.91617,     0.91628,     0.91638,     0.91648,     0.91659,     0.91669,     0.91679,      0.9169,       0.917,     0.91714,\n",
              "            0.91859,     0.92063,     0.92203,      0.9223,     0.92257,     0.92284,     0.92311,     0.92338,     0.92365,     0.92391,     0.92418,     0.92967,     0.93089,     0.93165,     0.93181,     0.93197,     0.93213,     0.93229,     0.93245,     0.93261,     0.93277,     0.93293,     0.93309,\n",
              "            0.93326,     0.93342,     0.93358,     0.93374,      0.9339,     0.93407,     0.93432,     0.93456,     0.93481,     0.93506,      0.9353,     0.93555,      0.9358,     0.93605,     0.93629,     0.93653,     0.93675,     0.93696,     0.93717,     0.93738,      0.9376,     0.93781,     0.93802,\n",
              "            0.93823,     0.93845,     0.93866,     0.93887,     0.93914,     0.93949,     0.93985,      0.9402,     0.94055,     0.94091,     0.94126,     0.94153,     0.94166,     0.94179,     0.94192,     0.94204,     0.94217,      0.9423,     0.94242,     0.94255,     0.94268,     0.94281,     0.94293,\n",
              "            0.94306,     0.94319,     0.94331,     0.94344,     0.94357,     0.94369,     0.94382,     0.94395,     0.94402,     0.94406,     0.94411,     0.94415,     0.94419,     0.94423,     0.94427,     0.94431,     0.94435,     0.94439,     0.94443,     0.94447,     0.94451,     0.94455,     0.94459,\n",
              "            0.94463,     0.94467,     0.94471,     0.94475,     0.94479,     0.94484,     0.94488,     0.94492,     0.94496,       0.945,     0.94504,     0.94508,     0.94512,     0.94516,      0.9452,     0.94524,     0.94528,     0.94532,     0.94536,      0.9454,     0.94544,     0.94548,     0.94552,\n",
              "            0.94556,      0.9456,     0.94565,     0.94569,     0.94573,     0.94577,     0.94581,     0.94585,     0.94589,     0.94593,     0.94597,     0.94601,     0.94605,     0.94609,     0.94613,     0.94617,     0.94621,     0.94625,     0.94629,     0.94633,     0.94637,     0.94641,     0.94645,\n",
              "            0.94649,     0.94667,     0.94719,     0.94771,     0.94823,     0.94875,     0.94922,     0.94962,     0.95003,     0.95043,     0.95083,     0.95123,     0.95163,     0.95197,     0.95231,     0.95265,     0.95299,     0.95333,     0.95367,     0.95401,     0.95422,      0.9543,     0.95439,\n",
              "            0.95447,     0.95456,     0.95464,     0.95472,     0.95481,     0.95489,     0.95498,     0.95506,     0.95514,     0.95523,     0.95531,      0.9554,     0.95548,     0.95556,     0.95565,     0.95573,     0.95582,      0.9559,     0.95598,     0.95607,     0.95615,     0.95623,     0.95632,\n",
              "             0.9564,     0.95649,     0.95657,     0.95665,     0.95674,     0.95617,      0.9554,     0.95462,     0.95394,     0.95407,     0.95421,     0.95434,     0.95447,      0.9546,     0.95473,     0.95486,     0.95499,     0.95513,     0.95526,     0.95539,     0.95552,     0.95565,     0.95578,\n",
              "            0.95591,     0.95604,     0.95617,     0.95631,     0.95644,     0.95658,     0.95675,     0.95693,      0.9571,     0.95727,     0.95745,     0.95762,     0.95779,     0.95796,     0.95813,     0.95831,     0.95848,     0.95865,     0.95882,       0.959,     0.95922,     0.95964,     0.96005,\n",
              "            0.96046,     0.96088,     0.96129,      0.9617,     0.96182,      0.9619,     0.96199,     0.96207,     0.96215,     0.96223,     0.96231,      0.9624,     0.96248,     0.96256,     0.96264,     0.96272,      0.9628,     0.96289,     0.96297,     0.96305,     0.96313,     0.96321,      0.9633,\n",
              "            0.96338,     0.96346,     0.96354,     0.96362,      0.9637,     0.96379,     0.96387,     0.96395,     0.96403,     0.96411,      0.9642,     0.96428,     0.96436,     0.96455,     0.96478,     0.96502,     0.96526,     0.96549,     0.96573,     0.96597,      0.9662,     0.96644,     0.96667,\n",
              "            0.96691,     0.96743,     0.96827,     0.96911,     0.96971,     0.96974,     0.96978,     0.96982,     0.96985,     0.96989,     0.96992,     0.96996,        0.97,     0.97003,     0.97007,      0.9701,     0.97014,     0.97018,     0.97021,     0.97025,     0.97029,     0.97032,     0.97036,\n",
              "            0.97039,     0.97043,     0.97047,      0.9705,     0.97054,     0.97057,     0.97061,     0.97065,     0.97068,     0.97072,     0.97075,     0.97079,     0.97083,     0.97086,      0.9709,     0.97093,     0.97097,     0.97101,     0.97104,     0.97108,     0.97111,     0.97115,     0.97119,\n",
              "            0.97122,     0.97126,     0.97129,     0.97133,     0.97137,      0.9714,     0.97144,     0.97147,     0.97151,     0.97155,     0.97158,     0.97162,     0.97165,     0.97169,     0.97173,     0.97176,      0.9718,     0.97183,     0.97187,     0.97191,     0.97194,     0.97198,     0.97201,\n",
              "            0.97205,     0.97209,     0.97212,     0.97216,     0.97219,     0.97223,     0.97226,      0.9723,     0.97234,     0.97237,     0.97244,     0.97251,     0.97258,     0.97265,     0.97272,     0.97279,     0.97286,     0.97293,       0.973,     0.97307,     0.97314,      0.9732,     0.97327,\n",
              "            0.97334,     0.97341,     0.97348,     0.97355,     0.97362,     0.97369,     0.97376,     0.97383,      0.9739,     0.97397,     0.97404,     0.97411,     0.97418,     0.97425,     0.97432,     0.97439,     0.97445,     0.97452,     0.97459,     0.97466,     0.97473,      0.9748,     0.97487,\n",
              "            0.97494,     0.97501,     0.97508,     0.97516,     0.97523,     0.97531,     0.97539,     0.97547,     0.97554,     0.97562,      0.9757,     0.97578,     0.97585,     0.97593,     0.97601,     0.97608,     0.97616,     0.97624,     0.97632,     0.97639,     0.97647,     0.97655,     0.97662,\n",
              "             0.9767,     0.97678,     0.97685,     0.97693,     0.97701,     0.97709,     0.97716,     0.97724,     0.97732,     0.97739,     0.97747,     0.97755,     0.97762,      0.9777,     0.97778,      0.9777,     0.97763,     0.97756,     0.97748,     0.97741,     0.97733,     0.97726,     0.97719,\n",
              "            0.97711,     0.97704,     0.97697,     0.97689,     0.97682,     0.97674,     0.97667,      0.9766,     0.97652,     0.97645,     0.97637,      0.9763,     0.97623,     0.97615,     0.97608,     0.97601,     0.97593,     0.97586,     0.97578,     0.97571,     0.97564,     0.97556,     0.97549,\n",
              "            0.97541,     0.97534,     0.97527,     0.97519,     0.97512,     0.97504,     0.97497,      0.9748,     0.97454,     0.97427,       0.974,     0.97374,     0.97347,      0.9732,     0.97294,     0.97267,      0.9724,     0.97214,       0.972,     0.97191,     0.97182,     0.97173,     0.97164,\n",
              "            0.97155,     0.97146,     0.97138,     0.97129,      0.9712,     0.97111,     0.97102,     0.97093,     0.97084,     0.97075,     0.97066,     0.97057,     0.97048,     0.97039,      0.9703,     0.97021,     0.97012,     0.97003,     0.96994,     0.96986,     0.96977,     0.96968,     0.96959,\n",
              "             0.9695,     0.96941,     0.96932,     0.96923,     0.96942,     0.96986,     0.97028,     0.97071,     0.97114,     0.97157,      0.9719,     0.97185,     0.97179,     0.97174,     0.97169,     0.97164,     0.97158,     0.97153,     0.97148,     0.97143,     0.97137,     0.97132,     0.97127,\n",
              "            0.97122,     0.97116,     0.97111,     0.97106,     0.97101,     0.97096,      0.9709,     0.97085,      0.9708,     0.97075,     0.97069,     0.97064,     0.97059,     0.97053,     0.97048,     0.97043,     0.97038,     0.97032,     0.97027,     0.97022,     0.97017,     0.97011,     0.97006,\n",
              "            0.97001,     0.96996,      0.9699,     0.96985,      0.9698,     0.96975,     0.96969,     0.96964,     0.96959,     0.96954,     0.96948,     0.96943,     0.96938,     0.96933,     0.96927,     0.96922,     0.96917,     0.96911,     0.96906,     0.96903,     0.96915,     0.96928,     0.96941,\n",
              "            0.96954,     0.96966,     0.96979,     0.96992,     0.97005,     0.97018,      0.9703,     0.97043,     0.97056,     0.97069,     0.97081,     0.97094,     0.97107,     0.97119,     0.97132,     0.97145,     0.97158,      0.9717,     0.97158,     0.97131,     0.97104,     0.97077,      0.9705,\n",
              "            0.97023,     0.96995,     0.96968,     0.96941,     0.96914,     0.96887,     0.96876,     0.96868,     0.96859,     0.96851,     0.96843,     0.96834,     0.96826,     0.96817,     0.96809,       0.968,     0.96792,     0.96783,     0.96775,     0.96767,     0.96758,      0.9675,     0.96741,\n",
              "            0.96733,     0.96724,     0.96716,     0.96707,     0.96699,      0.9669,     0.96682,     0.96673,     0.96665,     0.96656,     0.96648,      0.9664,     0.96631,     0.96623,     0.96614,     0.96606,     0.96597,     0.96589,     0.96583,     0.96577,      0.9657,     0.96564,     0.96558,\n",
              "            0.96552,     0.96545,     0.96539,     0.96533,     0.96526,      0.9652,     0.96514,     0.96508,     0.96501,     0.96495,     0.96489,     0.96482,     0.96476,      0.9647,     0.96464,     0.96457,     0.96451,     0.96445,     0.96438,     0.96432,     0.96426,      0.9642,     0.96413,\n",
              "            0.96407,     0.96401,     0.96394,     0.96388,     0.96382,     0.96376,     0.96369,     0.96363,     0.96357,      0.9635,     0.96344,     0.96338,     0.96331,     0.96325,     0.96319,     0.96312,     0.96306,       0.963,     0.96306,     0.96327,     0.96349,     0.96371,     0.96393,\n",
              "            0.96414,     0.96436,     0.96458,     0.96479,     0.96501,     0.96523,     0.96544,     0.96566,     0.96558,      0.9654,     0.96522,     0.96505,     0.96487,     0.96469,     0.96451,     0.96433,     0.96415,     0.96397,      0.9638,     0.96362,     0.96344,     0.96326,     0.96308,\n",
              "             0.9629,     0.96255,     0.96133,      0.9601,     0.95888,     0.95765,     0.95732,     0.95921,     0.95917,     0.95873,     0.95829,     0.95785,     0.95741,     0.95697,     0.95652,     0.95564,     0.95475,     0.95386,     0.95167,     0.95075,     0.95127,     0.95179,     0.95231,\n",
              "            0.95282,     0.95292,     0.95166,      0.9504,     0.94846,     0.94491,     0.94377,     0.94355,     0.94332,      0.9431,     0.94288,     0.94266,     0.94244,     0.94222,       0.942,     0.94178,     0.94156,     0.94134,     0.94112,     0.94089,     0.94026,     0.93946,     0.93865,\n",
              "            0.93785,     0.93639,     0.93477,      0.9336,     0.93252,     0.93143,     0.92983,     0.92819,     0.92743,      0.9267,     0.92597,     0.92523,     0.92364,      0.9209,     0.91527,     0.91608,      0.9169,     0.91771,     0.91547,     0.91361,     0.91225,     0.91096,     0.90982,\n",
              "            0.90868,     0.90531,     0.90358,     0.90242,     0.90127,     0.90048,     0.89971,     0.89893,     0.89816,     0.89579,     0.88881,       0.886,     0.88381,     0.88261,     0.88142,     0.87522,     0.87158,     0.86571,     0.86385,     0.86136,     0.85624,     0.85199,     0.84727,\n",
              "            0.84573,      0.8442,      0.8404,     0.84116,     0.83516,     0.83021,     0.82744,     0.82344,     0.81977,     0.81815,     0.81653,     0.80629,     0.78664,     0.77025,     0.76806,     0.76377,     0.75486,     0.74581,     0.73618,     0.72926,     0.72064,     0.71748,     0.70567,\n",
              "            0.70326,     0.70164,     0.70001,     0.69349,     0.69101,     0.68745,     0.68292,     0.68124,     0.67956,     0.67043,     0.66024,     0.64989,       0.642,     0.63136,     0.62392,     0.59637,     0.56769,     0.54052,     0.53144,     0.52705,     0.52285,       0.512,     0.50271,\n",
              "            0.48563,     0.48297,     0.47972,     0.47185,     0.45146,     0.43052,     0.40421,     0.39928,     0.35656,     0.33296,     0.30867,     0.29911,     0.29069,     0.28219,     0.25703,     0.23673,     0.23221,      0.2119,     0.20215,     0.17926,     0.16961,     0.15225,     0.13391,\n",
              "            0.12431,     0.12022,      0.1024,    0.083905,    0.073215,    0.062405,    0.052632,    0.045284,    0.041044,    0.037334,    0.033609,    0.026393,    0.021181,    0.018658,    0.016129,    0.013593,           0,           0,           0,           0,           0,           0,           0,\n",
              "                  0,           0,           0,           0,           0,           0,           0,           0,           0,           0,           0]]), 'Confidence', 'F1'], [array([          0,    0.001001,    0.002002,    0.003003,    0.004004,    0.005005,    0.006006,    0.007007,    0.008008,    0.009009,     0.01001,    0.011011,    0.012012,    0.013013,    0.014014,    0.015015,    0.016016,    0.017017,    0.018018,    0.019019,     0.02002,    0.021021,    0.022022,    0.023023,\n",
              "          0.024024,    0.025025,    0.026026,    0.027027,    0.028028,    0.029029,     0.03003,    0.031031,    0.032032,    0.033033,    0.034034,    0.035035,    0.036036,    0.037037,    0.038038,    0.039039,     0.04004,    0.041041,    0.042042,    0.043043,    0.044044,    0.045045,    0.046046,    0.047047,\n",
              "          0.048048,    0.049049,     0.05005,    0.051051,    0.052052,    0.053053,    0.054054,    0.055055,    0.056056,    0.057057,    0.058058,    0.059059,     0.06006,    0.061061,    0.062062,    0.063063,    0.064064,    0.065065,    0.066066,    0.067067,    0.068068,    0.069069,     0.07007,    0.071071,\n",
              "          0.072072,    0.073073,    0.074074,    0.075075,    0.076076,    0.077077,    0.078078,    0.079079,     0.08008,    0.081081,    0.082082,    0.083083,    0.084084,    0.085085,    0.086086,    0.087087,    0.088088,    0.089089,     0.09009,    0.091091,    0.092092,    0.093093,    0.094094,    0.095095,\n",
              "          0.096096,    0.097097,    0.098098,    0.099099,      0.1001,      0.1011,      0.1021,      0.1031,      0.1041,     0.10511,     0.10611,     0.10711,     0.10811,     0.10911,     0.11011,     0.11111,     0.11211,     0.11311,     0.11411,     0.11512,     0.11612,     0.11712,     0.11812,     0.11912,\n",
              "           0.12012,     0.12112,     0.12212,     0.12312,     0.12412,     0.12513,     0.12613,     0.12713,     0.12813,     0.12913,     0.13013,     0.13113,     0.13213,     0.13313,     0.13413,     0.13514,     0.13614,     0.13714,     0.13814,     0.13914,     0.14014,     0.14114,     0.14214,     0.14314,\n",
              "           0.14414,     0.14515,     0.14615,     0.14715,     0.14815,     0.14915,     0.15015,     0.15115,     0.15215,     0.15315,     0.15415,     0.15516,     0.15616,     0.15716,     0.15816,     0.15916,     0.16016,     0.16116,     0.16216,     0.16316,     0.16416,     0.16517,     0.16617,     0.16717,\n",
              "           0.16817,     0.16917,     0.17017,     0.17117,     0.17217,     0.17317,     0.17417,     0.17518,     0.17618,     0.17718,     0.17818,     0.17918,     0.18018,     0.18118,     0.18218,     0.18318,     0.18418,     0.18519,     0.18619,     0.18719,     0.18819,     0.18919,     0.19019,     0.19119,\n",
              "           0.19219,     0.19319,     0.19419,      0.1952,      0.1962,      0.1972,      0.1982,      0.1992,      0.2002,      0.2012,      0.2022,      0.2032,      0.2042,     0.20521,     0.20621,     0.20721,     0.20821,     0.20921,     0.21021,     0.21121,     0.21221,     0.21321,     0.21421,     0.21522,\n",
              "           0.21622,     0.21722,     0.21822,     0.21922,     0.22022,     0.22122,     0.22222,     0.22322,     0.22422,     0.22523,     0.22623,     0.22723,     0.22823,     0.22923,     0.23023,     0.23123,     0.23223,     0.23323,     0.23423,     0.23524,     0.23624,     0.23724,     0.23824,     0.23924,\n",
              "           0.24024,     0.24124,     0.24224,     0.24324,     0.24424,     0.24525,     0.24625,     0.24725,     0.24825,     0.24925,     0.25025,     0.25125,     0.25225,     0.25325,     0.25425,     0.25526,     0.25626,     0.25726,     0.25826,     0.25926,     0.26026,     0.26126,     0.26226,     0.26326,\n",
              "           0.26426,     0.26527,     0.26627,     0.26727,     0.26827,     0.26927,     0.27027,     0.27127,     0.27227,     0.27327,     0.27427,     0.27528,     0.27628,     0.27728,     0.27828,     0.27928,     0.28028,     0.28128,     0.28228,     0.28328,     0.28428,     0.28529,     0.28629,     0.28729,\n",
              "           0.28829,     0.28929,     0.29029,     0.29129,     0.29229,     0.29329,     0.29429,      0.2953,      0.2963,      0.2973,      0.2983,      0.2993,      0.3003,      0.3013,      0.3023,      0.3033,      0.3043,     0.30531,     0.30631,     0.30731,     0.30831,     0.30931,     0.31031,     0.31131,\n",
              "           0.31231,     0.31331,     0.31431,     0.31532,     0.31632,     0.31732,     0.31832,     0.31932,     0.32032,     0.32132,     0.32232,     0.32332,     0.32432,     0.32533,     0.32633,     0.32733,     0.32833,     0.32933,     0.33033,     0.33133,     0.33233,     0.33333,     0.33433,     0.33534,\n",
              "           0.33634,     0.33734,     0.33834,     0.33934,     0.34034,     0.34134,     0.34234,     0.34334,     0.34434,     0.34535,     0.34635,     0.34735,     0.34835,     0.34935,     0.35035,     0.35135,     0.35235,     0.35335,     0.35435,     0.35536,     0.35636,     0.35736,     0.35836,     0.35936,\n",
              "           0.36036,     0.36136,     0.36236,     0.36336,     0.36436,     0.36537,     0.36637,     0.36737,     0.36837,     0.36937,     0.37037,     0.37137,     0.37237,     0.37337,     0.37437,     0.37538,     0.37638,     0.37738,     0.37838,     0.37938,     0.38038,     0.38138,     0.38238,     0.38338,\n",
              "           0.38438,     0.38539,     0.38639,     0.38739,     0.38839,     0.38939,     0.39039,     0.39139,     0.39239,     0.39339,     0.39439,      0.3954,      0.3964,      0.3974,      0.3984,      0.3994,      0.4004,      0.4014,      0.4024,      0.4034,      0.4044,     0.40541,     0.40641,     0.40741,\n",
              "           0.40841,     0.40941,     0.41041,     0.41141,     0.41241,     0.41341,     0.41441,     0.41542,     0.41642,     0.41742,     0.41842,     0.41942,     0.42042,     0.42142,     0.42242,     0.42342,     0.42442,     0.42543,     0.42643,     0.42743,     0.42843,     0.42943,     0.43043,     0.43143,\n",
              "           0.43243,     0.43343,     0.43443,     0.43544,     0.43644,     0.43744,     0.43844,     0.43944,     0.44044,     0.44144,     0.44244,     0.44344,     0.44444,     0.44545,     0.44645,     0.44745,     0.44845,     0.44945,     0.45045,     0.45145,     0.45245,     0.45345,     0.45445,     0.45546,\n",
              "           0.45646,     0.45746,     0.45846,     0.45946,     0.46046,     0.46146,     0.46246,     0.46346,     0.46446,     0.46547,     0.46647,     0.46747,     0.46847,     0.46947,     0.47047,     0.47147,     0.47247,     0.47347,     0.47447,     0.47548,     0.47648,     0.47748,     0.47848,     0.47948,\n",
              "           0.48048,     0.48148,     0.48248,     0.48348,     0.48448,     0.48549,     0.48649,     0.48749,     0.48849,     0.48949,     0.49049,     0.49149,     0.49249,     0.49349,     0.49449,      0.4955,      0.4965,      0.4975,      0.4985,      0.4995,      0.5005,      0.5015,      0.5025,      0.5035,\n",
              "            0.5045,     0.50551,     0.50651,     0.50751,     0.50851,     0.50951,     0.51051,     0.51151,     0.51251,     0.51351,     0.51451,     0.51552,     0.51652,     0.51752,     0.51852,     0.51952,     0.52052,     0.52152,     0.52252,     0.52352,     0.52452,     0.52553,     0.52653,     0.52753,\n",
              "           0.52853,     0.52953,     0.53053,     0.53153,     0.53253,     0.53353,     0.53453,     0.53554,     0.53654,     0.53754,     0.53854,     0.53954,     0.54054,     0.54154,     0.54254,     0.54354,     0.54454,     0.54555,     0.54655,     0.54755,     0.54855,     0.54955,     0.55055,     0.55155,\n",
              "           0.55255,     0.55355,     0.55455,     0.55556,     0.55656,     0.55756,     0.55856,     0.55956,     0.56056,     0.56156,     0.56256,     0.56356,     0.56456,     0.56557,     0.56657,     0.56757,     0.56857,     0.56957,     0.57057,     0.57157,     0.57257,     0.57357,     0.57457,     0.57558,\n",
              "           0.57658,     0.57758,     0.57858,     0.57958,     0.58058,     0.58158,     0.58258,     0.58358,     0.58458,     0.58559,     0.58659,     0.58759,     0.58859,     0.58959,     0.59059,     0.59159,     0.59259,     0.59359,     0.59459,      0.5956,      0.5966,      0.5976,      0.5986,      0.5996,\n",
              "            0.6006,      0.6016,      0.6026,      0.6036,      0.6046,     0.60561,     0.60661,     0.60761,     0.60861,     0.60961,     0.61061,     0.61161,     0.61261,     0.61361,     0.61461,     0.61562,     0.61662,     0.61762,     0.61862,     0.61962,     0.62062,     0.62162,     0.62262,     0.62362,\n",
              "           0.62462,     0.62563,     0.62663,     0.62763,     0.62863,     0.62963,     0.63063,     0.63163,     0.63263,     0.63363,     0.63463,     0.63564,     0.63664,     0.63764,     0.63864,     0.63964,     0.64064,     0.64164,     0.64264,     0.64364,     0.64464,     0.64565,     0.64665,     0.64765,\n",
              "           0.64865,     0.64965,     0.65065,     0.65165,     0.65265,     0.65365,     0.65465,     0.65566,     0.65666,     0.65766,     0.65866,     0.65966,     0.66066,     0.66166,     0.66266,     0.66366,     0.66466,     0.66567,     0.66667,     0.66767,     0.66867,     0.66967,     0.67067,     0.67167,\n",
              "           0.67267,     0.67367,     0.67467,     0.67568,     0.67668,     0.67768,     0.67868,     0.67968,     0.68068,     0.68168,     0.68268,     0.68368,     0.68468,     0.68569,     0.68669,     0.68769,     0.68869,     0.68969,     0.69069,     0.69169,     0.69269,     0.69369,     0.69469,      0.6957,\n",
              "            0.6967,      0.6977,      0.6987,      0.6997,      0.7007,      0.7017,      0.7027,      0.7037,      0.7047,     0.70571,     0.70671,     0.70771,     0.70871,     0.70971,     0.71071,     0.71171,     0.71271,     0.71371,     0.71471,     0.71572,     0.71672,     0.71772,     0.71872,     0.71972,\n",
              "           0.72072,     0.72172,     0.72272,     0.72372,     0.72472,     0.72573,     0.72673,     0.72773,     0.72873,     0.72973,     0.73073,     0.73173,     0.73273,     0.73373,     0.73473,     0.73574,     0.73674,     0.73774,     0.73874,     0.73974,     0.74074,     0.74174,     0.74274,     0.74374,\n",
              "           0.74474,     0.74575,     0.74675,     0.74775,     0.74875,     0.74975,     0.75075,     0.75175,     0.75275,     0.75375,     0.75475,     0.75576,     0.75676,     0.75776,     0.75876,     0.75976,     0.76076,     0.76176,     0.76276,     0.76376,     0.76476,     0.76577,     0.76677,     0.76777,\n",
              "           0.76877,     0.76977,     0.77077,     0.77177,     0.77277,     0.77377,     0.77477,     0.77578,     0.77678,     0.77778,     0.77878,     0.77978,     0.78078,     0.78178,     0.78278,     0.78378,     0.78478,     0.78579,     0.78679,     0.78779,     0.78879,     0.78979,     0.79079,     0.79179,\n",
              "           0.79279,     0.79379,     0.79479,      0.7958,      0.7968,      0.7978,      0.7988,      0.7998,      0.8008,      0.8018,      0.8028,      0.8038,      0.8048,     0.80581,     0.80681,     0.80781,     0.80881,     0.80981,     0.81081,     0.81181,     0.81281,     0.81381,     0.81481,     0.81582,\n",
              "           0.81682,     0.81782,     0.81882,     0.81982,     0.82082,     0.82182,     0.82282,     0.82382,     0.82482,     0.82583,     0.82683,     0.82783,     0.82883,     0.82983,     0.83083,     0.83183,     0.83283,     0.83383,     0.83483,     0.83584,     0.83684,     0.83784,     0.83884,     0.83984,\n",
              "           0.84084,     0.84184,     0.84284,     0.84384,     0.84484,     0.84585,     0.84685,     0.84785,     0.84885,     0.84985,     0.85085,     0.85185,     0.85285,     0.85385,     0.85485,     0.85586,     0.85686,     0.85786,     0.85886,     0.85986,     0.86086,     0.86186,     0.86286,     0.86386,\n",
              "           0.86486,     0.86587,     0.86687,     0.86787,     0.86887,     0.86987,     0.87087,     0.87187,     0.87287,     0.87387,     0.87487,     0.87588,     0.87688,     0.87788,     0.87888,     0.87988,     0.88088,     0.88188,     0.88288,     0.88388,     0.88488,     0.88589,     0.88689,     0.88789,\n",
              "           0.88889,     0.88989,     0.89089,     0.89189,     0.89289,     0.89389,     0.89489,      0.8959,      0.8969,      0.8979,      0.8989,      0.8999,      0.9009,      0.9019,      0.9029,      0.9039,      0.9049,     0.90591,     0.90691,     0.90791,     0.90891,     0.90991,     0.91091,     0.91191,\n",
              "           0.91291,     0.91391,     0.91491,     0.91592,     0.91692,     0.91792,     0.91892,     0.91992,     0.92092,     0.92192,     0.92292,     0.92392,     0.92492,     0.92593,     0.92693,     0.92793,     0.92893,     0.92993,     0.93093,     0.93193,     0.93293,     0.93393,     0.93493,     0.93594,\n",
              "           0.93694,     0.93794,     0.93894,     0.93994,     0.94094,     0.94194,     0.94294,     0.94394,     0.94494,     0.94595,     0.94695,     0.94795,     0.94895,     0.94995,     0.95095,     0.95195,     0.95295,     0.95395,     0.95495,     0.95596,     0.95696,     0.95796,     0.95896,     0.95996,\n",
              "           0.96096,     0.96196,     0.96296,     0.96396,     0.96496,     0.96597,     0.96697,     0.96797,     0.96897,     0.96997,     0.97097,     0.97197,     0.97297,     0.97397,     0.97497,     0.97598,     0.97698,     0.97798,     0.97898,     0.97998,     0.98098,     0.98198,     0.98298,     0.98398,\n",
              "           0.98498,     0.98599,     0.98699,     0.98799,     0.98899,     0.98999,     0.99099,     0.99199,     0.99299,     0.99399,     0.99499,       0.996,       0.997,       0.998,       0.999,           1]), array([[   0.012142,    0.012142,    0.036592,      0.1505,     0.27739,       0.365,      0.4339,     0.49144,       0.535,     0.57258,     0.60459,     0.61629,      0.6303,     0.64665,     0.65218,     0.67301,     0.68289,     0.69292,     0.70625,     0.71245,     0.72407,     0.74327,     0.75144,\n",
              "            0.75723,     0.76554,     0.77041,     0.77164,     0.77287,     0.77992,     0.78047,     0.78102,     0.78157,     0.78212,     0.78267,     0.78405,     0.79262,     0.79489,     0.79656,      0.8022,     0.80449,     0.80868,     0.81055,     0.81333,     0.81958,     0.82038,     0.82119,\n",
              "              0.822,      0.8228,     0.82346,     0.82393,      0.8244,     0.82487,     0.82534,     0.82581,     0.82628,     0.82675,     0.82727,     0.82796,     0.82865,     0.82935,     0.83004,     0.83073,      0.8317,     0.83284,     0.83398,     0.83537,     0.83786,     0.84037,     0.84286,\n",
              "            0.84304,     0.84321,     0.84339,     0.84356,     0.84374,     0.84391,     0.84409,     0.84426,     0.84444,     0.84461,     0.84479,     0.84496,     0.84514,     0.84532,     0.84549,     0.84567,     0.84584,     0.84602,     0.84619,     0.84637,     0.84654,     0.84672,     0.84696,\n",
              "            0.84943,     0.85293,     0.85534,     0.85581,     0.85627,     0.85673,      0.8572,     0.85766,     0.85812,     0.85859,     0.85905,     0.86858,     0.87071,     0.87204,     0.87232,     0.87261,     0.87289,     0.87317,     0.87345,     0.87373,     0.87402,      0.8743,     0.87458,\n",
              "            0.87486,     0.87514,     0.87543,     0.87571,     0.87599,     0.87629,     0.87673,     0.87716,      0.8776,     0.87804,     0.87847,     0.87891,     0.87934,     0.87978,     0.88022,     0.88064,     0.88102,      0.8814,     0.88177,     0.88215,     0.88252,      0.8829,     0.88328,\n",
              "            0.88365,     0.88403,     0.88441,     0.88478,     0.88526,     0.88589,     0.88652,     0.88715,     0.88778,     0.88841,     0.88904,     0.88953,     0.88975,     0.88998,     0.89021,     0.89044,     0.89066,     0.89089,     0.89112,     0.89134,     0.89157,      0.8918,     0.89203,\n",
              "            0.89225,     0.89248,     0.89271,     0.89294,     0.89316,     0.89339,     0.89362,     0.89385,     0.89398,     0.89406,     0.89413,      0.8942,     0.89427,     0.89435,     0.89442,     0.89449,     0.89456,     0.89464,     0.89471,     0.89478,     0.89486,     0.89493,       0.895,\n",
              "            0.89507,     0.89515,     0.89522,     0.89529,     0.89537,     0.89544,     0.89551,     0.89558,     0.89566,     0.89573,      0.8958,     0.89588,     0.89595,     0.89602,     0.89609,     0.89617,     0.89624,     0.89631,     0.89639,     0.89646,     0.89653,      0.8966,     0.89668,\n",
              "            0.89675,     0.89682,      0.8969,     0.89697,     0.89704,     0.89711,     0.89719,     0.89726,     0.89733,      0.8974,     0.89748,     0.89755,     0.89762,      0.8977,     0.89777,     0.89784,     0.89791,     0.89799,     0.89806,     0.89813,     0.89821,     0.89828,     0.89835,\n",
              "            0.89842,     0.89873,     0.89967,     0.90061,     0.90155,     0.90249,     0.90335,     0.90408,     0.90481,     0.90554,     0.90627,       0.907,     0.90773,     0.90834,     0.90896,     0.90958,      0.9102,     0.91082,     0.91144,     0.91206,     0.91245,      0.9126,     0.91275,\n",
              "            0.91291,     0.91306,     0.91322,     0.91337,     0.91352,     0.91368,     0.91383,     0.91399,     0.91414,     0.91429,     0.91445,      0.9146,     0.91475,     0.91491,     0.91506,     0.91522,     0.91537,     0.91552,     0.91568,     0.91583,     0.91599,     0.91614,     0.91629,\n",
              "            0.91645,      0.9166,     0.91675,     0.91691,     0.91706,     0.91701,     0.91689,     0.91677,     0.91669,     0.91693,     0.91718,     0.91742,     0.91766,     0.91791,     0.91815,     0.91839,     0.91864,     0.91888,     0.91912,     0.91936,     0.91961,     0.91985,     0.92009,\n",
              "            0.92034,     0.92058,     0.92082,     0.92106,     0.92131,     0.92158,      0.9219,     0.92222,     0.92254,     0.92286,     0.92318,      0.9235,     0.92382,     0.92414,     0.92446,     0.92479,     0.92511,     0.92543,     0.92575,     0.92607,     0.92649,     0.92726,     0.92804,\n",
              "            0.92881,     0.92958,     0.93036,     0.93113,     0.93135,     0.93151,     0.93166,     0.93181,     0.93197,     0.93212,     0.93228,     0.93243,     0.93258,     0.93274,     0.93289,     0.93305,      0.9332,     0.93335,     0.93351,     0.93366,     0.93381,     0.93397,     0.93412,\n",
              "            0.93428,     0.93443,     0.93458,     0.93474,     0.93489,     0.93505,      0.9352,     0.93535,     0.93551,     0.93566,     0.93582,     0.93597,     0.93612,     0.93648,     0.93693,     0.93737,     0.93782,     0.93826,     0.93871,     0.93916,      0.9396,     0.94005,     0.94049,\n",
              "            0.94094,     0.94193,     0.94353,     0.94512,     0.94626,     0.94633,     0.94639,     0.94646,     0.94653,      0.9466,     0.94667,     0.94674,     0.94681,     0.94688,     0.94694,     0.94701,     0.94708,     0.94715,     0.94722,     0.94729,     0.94736,     0.94743,     0.94749,\n",
              "            0.94756,     0.94763,      0.9477,     0.94777,     0.94784,     0.94791,     0.94798,     0.94805,     0.94811,     0.94818,     0.94825,     0.94832,     0.94839,     0.94846,     0.94853,      0.9486,     0.94866,     0.94873,      0.9488,     0.94887,     0.94894,     0.94901,     0.94908,\n",
              "            0.94915,     0.94921,     0.94928,     0.94935,     0.94942,     0.94949,     0.94956,     0.94963,      0.9497,     0.94976,     0.94983,      0.9499,     0.94997,     0.95004,     0.95011,     0.95018,     0.95025,     0.95031,     0.95038,     0.95045,     0.95052,     0.95059,     0.95066,\n",
              "            0.95073,      0.9508,     0.95086,     0.95093,       0.951,     0.95107,     0.95114,     0.95121,     0.95128,     0.95135,     0.95147,     0.95161,     0.95174,     0.95187,     0.95201,     0.95214,     0.95227,     0.95241,     0.95254,     0.95267,     0.95281,     0.95294,     0.95307,\n",
              "            0.95321,     0.95334,     0.95347,     0.95361,     0.95374,     0.95387,     0.95401,     0.95414,     0.95427,     0.95441,     0.95454,     0.95467,     0.95481,     0.95494,     0.95507,     0.95521,     0.95534,     0.95547,     0.95561,     0.95574,     0.95587,     0.95601,     0.95614,\n",
              "            0.95627,     0.95641,     0.95654,     0.95669,     0.95684,     0.95699,     0.95714,     0.95729,     0.95743,     0.95758,     0.95773,     0.95788,     0.95803,     0.95818,     0.95833,     0.95848,     0.95863,     0.95877,     0.95892,     0.95907,     0.95922,     0.95937,     0.95952,\n",
              "            0.95967,     0.95982,     0.95996,     0.96011,     0.96026,     0.96041,     0.96056,     0.96071,     0.96086,     0.96101,     0.96116,      0.9613,     0.96145,      0.9616,     0.96175,     0.96174,     0.96174,     0.96173,     0.96173,     0.96172,     0.96172,     0.96171,      0.9617,\n",
              "             0.9617,     0.96169,     0.96169,     0.96168,     0.96168,     0.96167,     0.96167,     0.96166,     0.96166,     0.96165,     0.96164,     0.96164,     0.96163,     0.96163,     0.96162,     0.96162,     0.96161,     0.96161,      0.9616,      0.9616,     0.96159,     0.96158,     0.96158,\n",
              "            0.96157,     0.96157,     0.96156,     0.96156,     0.96155,     0.96155,     0.96154,     0.96153,     0.96151,     0.96149,     0.96147,     0.96145,     0.96143,     0.96141,     0.96139,     0.96137,     0.96135,     0.96133,     0.96132,     0.96131,     0.96131,      0.9613,     0.96129,\n",
              "            0.96129,     0.96128,     0.96127,     0.96127,     0.96126,     0.96125,     0.96125,     0.96124,     0.96123,     0.96123,     0.96122,     0.96121,     0.96121,      0.9612,     0.96119,     0.96119,     0.96118,     0.96117,     0.96117,     0.96116,     0.96115,     0.96115,     0.96114,\n",
              "            0.96113,     0.96113,     0.96112,     0.96111,     0.96158,     0.96242,     0.96327,     0.96412,     0.96496,     0.96581,     0.96648,     0.96648,     0.96647,     0.96647,     0.96647,     0.96646,     0.96646,     0.96646,     0.96645,     0.96645,     0.96645,     0.96644,     0.96644,\n",
              "            0.96644,     0.96643,     0.96643,     0.96643,     0.96642,     0.96642,     0.96641,     0.96641,     0.96641,      0.9664,      0.9664,      0.9664,     0.96639,     0.96639,     0.96639,     0.96638,     0.96638,     0.96638,     0.96637,     0.96637,     0.96637,     0.96636,     0.96636,\n",
              "            0.96636,     0.96635,     0.96635,     0.96635,     0.96634,     0.96634,     0.96634,     0.96633,     0.96633,     0.96633,     0.96632,     0.96632,     0.96632,     0.96631,     0.96631,     0.96631,      0.9663,      0.9663,      0.9663,     0.96631,     0.96657,     0.96682,     0.96708,\n",
              "            0.96733,     0.96759,     0.96784,      0.9681,     0.96835,      0.9686,     0.96886,     0.96911,     0.96937,     0.96962,     0.96988,     0.97013,     0.97038,     0.97064,     0.97089,     0.97115,      0.9714,     0.97166,     0.97174,     0.97173,     0.97171,      0.9717,     0.97168,\n",
              "            0.97167,     0.97165,     0.97164,     0.97162,     0.97161,     0.97159,     0.97159,     0.97158,     0.97158,     0.97157,     0.97157,     0.97156,     0.97156,     0.97155,     0.97155,     0.97154,     0.97154,     0.97154,     0.97153,     0.97153,     0.97152,     0.97152,     0.97151,\n",
              "            0.97151,      0.9715,      0.9715,     0.97149,     0.97149,     0.97148,     0.97148,     0.97147,     0.97147,     0.97146,     0.97146,     0.97146,     0.97145,     0.97145,     0.97144,     0.97144,     0.97143,     0.97143,     0.97142,     0.97142,     0.97142,     0.97141,     0.97141,\n",
              "            0.97141,      0.9714,      0.9714,      0.9714,     0.97139,     0.97139,     0.97139,     0.97138,     0.97138,     0.97138,     0.97137,     0.97137,     0.97136,     0.97136,     0.97136,     0.97135,     0.97135,     0.97135,     0.97134,     0.97134,     0.97134,     0.97133,     0.97133,\n",
              "            0.97133,     0.97132,     0.97132,     0.97132,     0.97131,     0.97131,      0.9713,      0.9713,      0.9713,     0.97129,     0.97129,     0.97129,     0.97128,     0.97128,     0.97128,     0.97127,     0.97127,     0.97127,     0.97146,      0.9719,     0.97234,     0.97278,     0.97323,\n",
              "            0.97367,     0.97411,     0.97456,       0.975,     0.97544,     0.97588,     0.97633,     0.97677,     0.97687,     0.97686,     0.97686,     0.97685,     0.97684,     0.97683,     0.97682,     0.97682,     0.97681,      0.9768,     0.97679,     0.97678,     0.97678,     0.97677,     0.97676,\n",
              "            0.97675,     0.97673,     0.97668,     0.97662,     0.97657,     0.97651,     0.97761,     0.98156,     0.98224,     0.98222,      0.9822,     0.98219,     0.98217,     0.98216,     0.98214,     0.98211,     0.98208,     0.98205,     0.98197,      0.9826,     0.98371,     0.98482,     0.98593,\n",
              "            0.98704,     0.98787,     0.98784,     0.98781,     0.98776,     0.98768,     0.98765,     0.98764,     0.98764,     0.98763,     0.98763,     0.98762,     0.98762,     0.98761,     0.98761,      0.9876,      0.9876,     0.98759,     0.98758,     0.98758,     0.98756,     0.98754,     0.98752,\n",
              "             0.9875,     0.98747,     0.98743,      0.9874,     0.98737,     0.98734,      0.9873,     0.98726,     0.98724,     0.98722,     0.98721,     0.98719,     0.98715,     0.98708,      0.9872,      0.9891,       0.991,      0.9929,     0.99339,     0.99336,     0.99335,     0.99333,     0.99331,\n",
              "             0.9933,     0.99325,     0.99323,     0.99321,      0.9932,     0.99319,     0.99318,     0.99317,     0.99316,     0.99312,     0.99303,     0.99299,     0.99295,     0.99294,     0.99292,     0.99283,     0.99278,     0.99269,     0.99267,     0.99263,     0.99255,     0.99249,     0.99241,\n",
              "            0.99239,     0.99237,     0.99231,           1,           1,           1,           1,           1,           1,           1,           1,           1,           1,           1,           1,           1,           1,           1,           1,           1,           1,           1,           1,\n",
              "                  1,           1,           1,           1,           1,           1,           1,           1,           1,           1,           1,           1,           1,           1,           1,           1,           1,           1,           1,           1,           1,           1,           1,\n",
              "                  1,           1,           1,           1,           1,           1,           1,           1,           1,           1,           1,           1,           1,           1,           1,           1,           1,           1,           1,           1,           1,           1,           1,\n",
              "                  1,           1,           1,           1,           1,           1,           1,           1,           1,           1,           1,           1,           1,           1,           1,           1,           1,           1,           1,           1,           1,           1,           1,\n",
              "                  1,           1,           1,           1,           1,           1,           1,           1,           1,           1,           1]]), 'Confidence', 'Precision'], [array([          0,    0.001001,    0.002002,    0.003003,    0.004004,    0.005005,    0.006006,    0.007007,    0.008008,    0.009009,     0.01001,    0.011011,    0.012012,    0.013013,    0.014014,    0.015015,    0.016016,    0.017017,    0.018018,    0.019019,     0.02002,    0.021021,    0.022022,    0.023023,\n",
              "          0.024024,    0.025025,    0.026026,    0.027027,    0.028028,    0.029029,     0.03003,    0.031031,    0.032032,    0.033033,    0.034034,    0.035035,    0.036036,    0.037037,    0.038038,    0.039039,     0.04004,    0.041041,    0.042042,    0.043043,    0.044044,    0.045045,    0.046046,    0.047047,\n",
              "          0.048048,    0.049049,     0.05005,    0.051051,    0.052052,    0.053053,    0.054054,    0.055055,    0.056056,    0.057057,    0.058058,    0.059059,     0.06006,    0.061061,    0.062062,    0.063063,    0.064064,    0.065065,    0.066066,    0.067067,    0.068068,    0.069069,     0.07007,    0.071071,\n",
              "          0.072072,    0.073073,    0.074074,    0.075075,    0.076076,    0.077077,    0.078078,    0.079079,     0.08008,    0.081081,    0.082082,    0.083083,    0.084084,    0.085085,    0.086086,    0.087087,    0.088088,    0.089089,     0.09009,    0.091091,    0.092092,    0.093093,    0.094094,    0.095095,\n",
              "          0.096096,    0.097097,    0.098098,    0.099099,      0.1001,      0.1011,      0.1021,      0.1031,      0.1041,     0.10511,     0.10611,     0.10711,     0.10811,     0.10911,     0.11011,     0.11111,     0.11211,     0.11311,     0.11411,     0.11512,     0.11612,     0.11712,     0.11812,     0.11912,\n",
              "           0.12012,     0.12112,     0.12212,     0.12312,     0.12412,     0.12513,     0.12613,     0.12713,     0.12813,     0.12913,     0.13013,     0.13113,     0.13213,     0.13313,     0.13413,     0.13514,     0.13614,     0.13714,     0.13814,     0.13914,     0.14014,     0.14114,     0.14214,     0.14314,\n",
              "           0.14414,     0.14515,     0.14615,     0.14715,     0.14815,     0.14915,     0.15015,     0.15115,     0.15215,     0.15315,     0.15415,     0.15516,     0.15616,     0.15716,     0.15816,     0.15916,     0.16016,     0.16116,     0.16216,     0.16316,     0.16416,     0.16517,     0.16617,     0.16717,\n",
              "           0.16817,     0.16917,     0.17017,     0.17117,     0.17217,     0.17317,     0.17417,     0.17518,     0.17618,     0.17718,     0.17818,     0.17918,     0.18018,     0.18118,     0.18218,     0.18318,     0.18418,     0.18519,     0.18619,     0.18719,     0.18819,     0.18919,     0.19019,     0.19119,\n",
              "           0.19219,     0.19319,     0.19419,      0.1952,      0.1962,      0.1972,      0.1982,      0.1992,      0.2002,      0.2012,      0.2022,      0.2032,      0.2042,     0.20521,     0.20621,     0.20721,     0.20821,     0.20921,     0.21021,     0.21121,     0.21221,     0.21321,     0.21421,     0.21522,\n",
              "           0.21622,     0.21722,     0.21822,     0.21922,     0.22022,     0.22122,     0.22222,     0.22322,     0.22422,     0.22523,     0.22623,     0.22723,     0.22823,     0.22923,     0.23023,     0.23123,     0.23223,     0.23323,     0.23423,     0.23524,     0.23624,     0.23724,     0.23824,     0.23924,\n",
              "           0.24024,     0.24124,     0.24224,     0.24324,     0.24424,     0.24525,     0.24625,     0.24725,     0.24825,     0.24925,     0.25025,     0.25125,     0.25225,     0.25325,     0.25425,     0.25526,     0.25626,     0.25726,     0.25826,     0.25926,     0.26026,     0.26126,     0.26226,     0.26326,\n",
              "           0.26426,     0.26527,     0.26627,     0.26727,     0.26827,     0.26927,     0.27027,     0.27127,     0.27227,     0.27327,     0.27427,     0.27528,     0.27628,     0.27728,     0.27828,     0.27928,     0.28028,     0.28128,     0.28228,     0.28328,     0.28428,     0.28529,     0.28629,     0.28729,\n",
              "           0.28829,     0.28929,     0.29029,     0.29129,     0.29229,     0.29329,     0.29429,      0.2953,      0.2963,      0.2973,      0.2983,      0.2993,      0.3003,      0.3013,      0.3023,      0.3033,      0.3043,     0.30531,     0.30631,     0.30731,     0.30831,     0.30931,     0.31031,     0.31131,\n",
              "           0.31231,     0.31331,     0.31431,     0.31532,     0.31632,     0.31732,     0.31832,     0.31932,     0.32032,     0.32132,     0.32232,     0.32332,     0.32432,     0.32533,     0.32633,     0.32733,     0.32833,     0.32933,     0.33033,     0.33133,     0.33233,     0.33333,     0.33433,     0.33534,\n",
              "           0.33634,     0.33734,     0.33834,     0.33934,     0.34034,     0.34134,     0.34234,     0.34334,     0.34434,     0.34535,     0.34635,     0.34735,     0.34835,     0.34935,     0.35035,     0.35135,     0.35235,     0.35335,     0.35435,     0.35536,     0.35636,     0.35736,     0.35836,     0.35936,\n",
              "           0.36036,     0.36136,     0.36236,     0.36336,     0.36436,     0.36537,     0.36637,     0.36737,     0.36837,     0.36937,     0.37037,     0.37137,     0.37237,     0.37337,     0.37437,     0.37538,     0.37638,     0.37738,     0.37838,     0.37938,     0.38038,     0.38138,     0.38238,     0.38338,\n",
              "           0.38438,     0.38539,     0.38639,     0.38739,     0.38839,     0.38939,     0.39039,     0.39139,     0.39239,     0.39339,     0.39439,      0.3954,      0.3964,      0.3974,      0.3984,      0.3994,      0.4004,      0.4014,      0.4024,      0.4034,      0.4044,     0.40541,     0.40641,     0.40741,\n",
              "           0.40841,     0.40941,     0.41041,     0.41141,     0.41241,     0.41341,     0.41441,     0.41542,     0.41642,     0.41742,     0.41842,     0.41942,     0.42042,     0.42142,     0.42242,     0.42342,     0.42442,     0.42543,     0.42643,     0.42743,     0.42843,     0.42943,     0.43043,     0.43143,\n",
              "           0.43243,     0.43343,     0.43443,     0.43544,     0.43644,     0.43744,     0.43844,     0.43944,     0.44044,     0.44144,     0.44244,     0.44344,     0.44444,     0.44545,     0.44645,     0.44745,     0.44845,     0.44945,     0.45045,     0.45145,     0.45245,     0.45345,     0.45445,     0.45546,\n",
              "           0.45646,     0.45746,     0.45846,     0.45946,     0.46046,     0.46146,     0.46246,     0.46346,     0.46446,     0.46547,     0.46647,     0.46747,     0.46847,     0.46947,     0.47047,     0.47147,     0.47247,     0.47347,     0.47447,     0.47548,     0.47648,     0.47748,     0.47848,     0.47948,\n",
              "           0.48048,     0.48148,     0.48248,     0.48348,     0.48448,     0.48549,     0.48649,     0.48749,     0.48849,     0.48949,     0.49049,     0.49149,     0.49249,     0.49349,     0.49449,      0.4955,      0.4965,      0.4975,      0.4985,      0.4995,      0.5005,      0.5015,      0.5025,      0.5035,\n",
              "            0.5045,     0.50551,     0.50651,     0.50751,     0.50851,     0.50951,     0.51051,     0.51151,     0.51251,     0.51351,     0.51451,     0.51552,     0.51652,     0.51752,     0.51852,     0.51952,     0.52052,     0.52152,     0.52252,     0.52352,     0.52452,     0.52553,     0.52653,     0.52753,\n",
              "           0.52853,     0.52953,     0.53053,     0.53153,     0.53253,     0.53353,     0.53453,     0.53554,     0.53654,     0.53754,     0.53854,     0.53954,     0.54054,     0.54154,     0.54254,     0.54354,     0.54454,     0.54555,     0.54655,     0.54755,     0.54855,     0.54955,     0.55055,     0.55155,\n",
              "           0.55255,     0.55355,     0.55455,     0.55556,     0.55656,     0.55756,     0.55856,     0.55956,     0.56056,     0.56156,     0.56256,     0.56356,     0.56456,     0.56557,     0.56657,     0.56757,     0.56857,     0.56957,     0.57057,     0.57157,     0.57257,     0.57357,     0.57457,     0.57558,\n",
              "           0.57658,     0.57758,     0.57858,     0.57958,     0.58058,     0.58158,     0.58258,     0.58358,     0.58458,     0.58559,     0.58659,     0.58759,     0.58859,     0.58959,     0.59059,     0.59159,     0.59259,     0.59359,     0.59459,      0.5956,      0.5966,      0.5976,      0.5986,      0.5996,\n",
              "            0.6006,      0.6016,      0.6026,      0.6036,      0.6046,     0.60561,     0.60661,     0.60761,     0.60861,     0.60961,     0.61061,     0.61161,     0.61261,     0.61361,     0.61461,     0.61562,     0.61662,     0.61762,     0.61862,     0.61962,     0.62062,     0.62162,     0.62262,     0.62362,\n",
              "           0.62462,     0.62563,     0.62663,     0.62763,     0.62863,     0.62963,     0.63063,     0.63163,     0.63263,     0.63363,     0.63463,     0.63564,     0.63664,     0.63764,     0.63864,     0.63964,     0.64064,     0.64164,     0.64264,     0.64364,     0.64464,     0.64565,     0.64665,     0.64765,\n",
              "           0.64865,     0.64965,     0.65065,     0.65165,     0.65265,     0.65365,     0.65465,     0.65566,     0.65666,     0.65766,     0.65866,     0.65966,     0.66066,     0.66166,     0.66266,     0.66366,     0.66466,     0.66567,     0.66667,     0.66767,     0.66867,     0.66967,     0.67067,     0.67167,\n",
              "           0.67267,     0.67367,     0.67467,     0.67568,     0.67668,     0.67768,     0.67868,     0.67968,     0.68068,     0.68168,     0.68268,     0.68368,     0.68468,     0.68569,     0.68669,     0.68769,     0.68869,     0.68969,     0.69069,     0.69169,     0.69269,     0.69369,     0.69469,      0.6957,\n",
              "            0.6967,      0.6977,      0.6987,      0.6997,      0.7007,      0.7017,      0.7027,      0.7037,      0.7047,     0.70571,     0.70671,     0.70771,     0.70871,     0.70971,     0.71071,     0.71171,     0.71271,     0.71371,     0.71471,     0.71572,     0.71672,     0.71772,     0.71872,     0.71972,\n",
              "           0.72072,     0.72172,     0.72272,     0.72372,     0.72472,     0.72573,     0.72673,     0.72773,     0.72873,     0.72973,     0.73073,     0.73173,     0.73273,     0.73373,     0.73473,     0.73574,     0.73674,     0.73774,     0.73874,     0.73974,     0.74074,     0.74174,     0.74274,     0.74374,\n",
              "           0.74474,     0.74575,     0.74675,     0.74775,     0.74875,     0.74975,     0.75075,     0.75175,     0.75275,     0.75375,     0.75475,     0.75576,     0.75676,     0.75776,     0.75876,     0.75976,     0.76076,     0.76176,     0.76276,     0.76376,     0.76476,     0.76577,     0.76677,     0.76777,\n",
              "           0.76877,     0.76977,     0.77077,     0.77177,     0.77277,     0.77377,     0.77477,     0.77578,     0.77678,     0.77778,     0.77878,     0.77978,     0.78078,     0.78178,     0.78278,     0.78378,     0.78478,     0.78579,     0.78679,     0.78779,     0.78879,     0.78979,     0.79079,     0.79179,\n",
              "           0.79279,     0.79379,     0.79479,      0.7958,      0.7968,      0.7978,      0.7988,      0.7998,      0.8008,      0.8018,      0.8028,      0.8038,      0.8048,     0.80581,     0.80681,     0.80781,     0.80881,     0.80981,     0.81081,     0.81181,     0.81281,     0.81381,     0.81481,     0.81582,\n",
              "           0.81682,     0.81782,     0.81882,     0.81982,     0.82082,     0.82182,     0.82282,     0.82382,     0.82482,     0.82583,     0.82683,     0.82783,     0.82883,     0.82983,     0.83083,     0.83183,     0.83283,     0.83383,     0.83483,     0.83584,     0.83684,     0.83784,     0.83884,     0.83984,\n",
              "           0.84084,     0.84184,     0.84284,     0.84384,     0.84484,     0.84585,     0.84685,     0.84785,     0.84885,     0.84985,     0.85085,     0.85185,     0.85285,     0.85385,     0.85485,     0.85586,     0.85686,     0.85786,     0.85886,     0.85986,     0.86086,     0.86186,     0.86286,     0.86386,\n",
              "           0.86486,     0.86587,     0.86687,     0.86787,     0.86887,     0.86987,     0.87087,     0.87187,     0.87287,     0.87387,     0.87487,     0.87588,     0.87688,     0.87788,     0.87888,     0.87988,     0.88088,     0.88188,     0.88288,     0.88388,     0.88488,     0.88589,     0.88689,     0.88789,\n",
              "           0.88889,     0.88989,     0.89089,     0.89189,     0.89289,     0.89389,     0.89489,      0.8959,      0.8969,      0.8979,      0.8989,      0.8999,      0.9009,      0.9019,      0.9029,      0.9039,      0.9049,     0.90591,     0.90691,     0.90791,     0.90891,     0.90991,     0.91091,     0.91191,\n",
              "           0.91291,     0.91391,     0.91491,     0.91592,     0.91692,     0.91792,     0.91892,     0.91992,     0.92092,     0.92192,     0.92292,     0.92392,     0.92492,     0.92593,     0.92693,     0.92793,     0.92893,     0.92993,     0.93093,     0.93193,     0.93293,     0.93393,     0.93493,     0.93594,\n",
              "           0.93694,     0.93794,     0.93894,     0.93994,     0.94094,     0.94194,     0.94294,     0.94394,     0.94494,     0.94595,     0.94695,     0.94795,     0.94895,     0.94995,     0.95095,     0.95195,     0.95295,     0.95395,     0.95495,     0.95596,     0.95696,     0.95796,     0.95896,     0.95996,\n",
              "           0.96096,     0.96196,     0.96296,     0.96396,     0.96496,     0.96597,     0.96697,     0.96797,     0.96897,     0.96997,     0.97097,     0.97197,     0.97297,     0.97397,     0.97497,     0.97598,     0.97698,     0.97798,     0.97898,     0.97998,     0.98098,     0.98198,     0.98298,     0.98398,\n",
              "           0.98498,     0.98599,     0.98699,     0.98799,     0.98899,     0.98999,     0.99099,     0.99199,     0.99299,     0.99399,     0.99499,       0.996,       0.997,       0.998,       0.999,           1]), array([[          1,           1,           1,           1,           1,           1,           1,           1,           1,           1,           1,           1,           1,           1,           1,           1,           1,           1,           1,           1,           1,           1,           1,\n",
              "                  1,           1,           1,           1,           1,           1,           1,           1,           1,           1,           1,           1,           1,           1,           1,           1,           1,           1,           1,           1,           1,           1,           1,\n",
              "                  1,           1,           1,           1,           1,           1,           1,           1,           1,           1,           1,           1,           1,           1,           1,           1,           1,           1,           1,           1,           1,           1,           1,\n",
              "                  1,           1,           1,           1,           1,           1,           1,           1,           1,           1,           1,           1,           1,           1,           1,           1,           1,           1,           1,           1,           1,           1,           1,\n",
              "                  1,           1,           1,           1,           1,           1,           1,           1,           1,           1,           1,           1,           1,           1,           1,           1,           1,           1,           1,           1,           1,           1,           1,\n",
              "                  1,           1,           1,           1,           1,           1,           1,           1,           1,           1,           1,           1,           1,           1,           1,           1,           1,           1,           1,           1,           1,           1,           1,\n",
              "                  1,           1,           1,           1,           1,           1,           1,           1,           1,           1,           1,           1,           1,           1,           1,           1,           1,           1,           1,           1,           1,           1,           1,\n",
              "                  1,           1,           1,           1,           1,           1,           1,           1,           1,           1,           1,           1,           1,           1,           1,           1,           1,           1,           1,           1,           1,           1,           1,\n",
              "                  1,           1,           1,           1,           1,           1,           1,           1,           1,           1,           1,           1,           1,           1,           1,           1,           1,           1,           1,           1,           1,           1,           1,\n",
              "                  1,           1,           1,           1,           1,           1,           1,           1,           1,           1,           1,           1,           1,           1,           1,           1,           1,           1,           1,           1,           1,           1,           1,\n",
              "                  1,           1,           1,           1,           1,           1,           1,           1,           1,           1,           1,           1,           1,           1,           1,           1,           1,           1,           1,           1,           1,           1,           1,\n",
              "                  1,           1,           1,           1,           1,           1,           1,           1,           1,           1,           1,           1,           1,           1,           1,           1,           1,           1,           1,           1,           1,           1,           1,\n",
              "                  1,           1,           1,           1,           1,     0.99882,     0.99728,     0.99573,     0.99435,     0.99435,     0.99435,     0.99435,     0.99435,     0.99435,     0.99435,     0.99435,     0.99435,     0.99435,     0.99435,     0.99435,     0.99435,     0.99435,     0.99435,\n",
              "            0.99435,     0.99435,     0.99435,     0.99435,     0.99435,     0.99435,     0.99435,     0.99435,     0.99435,     0.99435,     0.99435,     0.99435,     0.99435,     0.99435,     0.99435,     0.99435,     0.99435,     0.99435,     0.99435,     0.99435,     0.99435,     0.99435,     0.99435,\n",
              "            0.99435,     0.99435,     0.99435,     0.99435,     0.99435,     0.99435,     0.99435,     0.99435,     0.99435,     0.99435,     0.99435,     0.99435,     0.99435,     0.99435,     0.99435,     0.99435,     0.99435,     0.99435,     0.99435,     0.99435,     0.99435,     0.99435,     0.99435,\n",
              "            0.99435,     0.99435,     0.99435,     0.99435,     0.99435,     0.99435,     0.99435,     0.99435,     0.99435,     0.99435,     0.99435,     0.99435,     0.99435,     0.99435,     0.99435,     0.99435,     0.99435,     0.99435,     0.99435,     0.99435,     0.99435,     0.99435,     0.99435,\n",
              "            0.99435,     0.99435,     0.99435,     0.99435,     0.99435,     0.99435,     0.99435,     0.99435,     0.99435,     0.99435,     0.99435,     0.99435,     0.99435,     0.99435,     0.99435,     0.99435,     0.99435,     0.99435,     0.99435,     0.99435,     0.99435,     0.99435,     0.99435,\n",
              "            0.99435,     0.99435,     0.99435,     0.99435,     0.99435,     0.99435,     0.99435,     0.99435,     0.99435,     0.99435,     0.99435,     0.99435,     0.99435,     0.99435,     0.99435,     0.99435,     0.99435,     0.99435,     0.99435,     0.99435,     0.99435,     0.99435,     0.99435,\n",
              "            0.99435,     0.99435,     0.99435,     0.99435,     0.99435,     0.99435,     0.99435,     0.99435,     0.99435,     0.99435,     0.99435,     0.99435,     0.99435,     0.99435,     0.99435,     0.99435,     0.99435,     0.99435,     0.99435,     0.99435,     0.99435,     0.99435,     0.99435,\n",
              "            0.99435,     0.99435,     0.99435,     0.99435,     0.99435,     0.99435,     0.99435,     0.99435,     0.99435,     0.99435,     0.99435,     0.99435,     0.99435,     0.99435,     0.99435,     0.99435,     0.99435,     0.99435,     0.99435,     0.99435,     0.99435,     0.99435,     0.99435,\n",
              "            0.99435,     0.99435,     0.99435,     0.99435,     0.99435,     0.99435,     0.99435,     0.99435,     0.99435,     0.99435,     0.99435,     0.99435,     0.99435,     0.99435,     0.99435,     0.99435,     0.99435,     0.99435,     0.99435,     0.99435,     0.99435,     0.99435,     0.99435,\n",
              "            0.99435,     0.99435,     0.99435,     0.99435,     0.99435,     0.99435,     0.99435,     0.99435,     0.99435,     0.99435,     0.99435,     0.99435,     0.99435,     0.99435,     0.99435,     0.99435,     0.99435,     0.99435,     0.99435,     0.99435,     0.99435,     0.99435,     0.99435,\n",
              "            0.99435,     0.99435,     0.99435,     0.99435,     0.99435,     0.99435,     0.99435,     0.99435,     0.99435,     0.99435,     0.99435,     0.99435,     0.99435,     0.99435,     0.99435,      0.9942,     0.99406,     0.99391,     0.99376,     0.99362,     0.99347,     0.99332,     0.99318,\n",
              "            0.99303,     0.99288,     0.99274,     0.99259,     0.99244,      0.9923,     0.99215,       0.992,     0.99186,     0.99171,     0.99156,     0.99142,     0.99127,     0.99112,     0.99098,     0.99083,     0.99068,     0.99054,     0.99039,     0.99024,      0.9901,     0.98995,      0.9898,\n",
              "            0.98966,     0.98951,     0.98936,     0.98922,     0.98907,     0.98892,     0.98878,     0.98845,     0.98792,      0.9874,     0.98687,     0.98634,     0.98582,     0.98529,     0.98476,     0.98424,     0.98371,     0.98318,     0.98292,     0.98274,     0.98257,     0.98239,     0.98222,\n",
              "            0.98204,     0.98187,     0.98169,     0.98152,     0.98134,     0.98117,     0.98099,     0.98081,     0.98064,     0.98046,     0.98029,     0.98011,     0.97994,     0.97976,     0.97959,     0.97941,     0.97923,     0.97906,     0.97888,     0.97871,     0.97853,     0.97836,     0.97818,\n",
              "            0.97801,     0.97783,     0.97766,     0.97748,      0.9774,      0.9774,      0.9774,      0.9774,      0.9774,      0.9774,     0.97738,     0.97728,     0.97717,     0.97707,     0.97697,     0.97687,     0.97676,     0.97666,     0.97656,     0.97646,     0.97635,     0.97625,     0.97615,\n",
              "            0.97605,     0.97594,     0.97584,     0.97574,     0.97564,     0.97553,     0.97543,     0.97533,     0.97523,     0.97512,     0.97502,     0.97492,     0.97482,     0.97471,     0.97461,     0.97451,     0.97441,      0.9743,      0.9742,      0.9741,       0.974,     0.97389,     0.97379,\n",
              "            0.97369,     0.97359,     0.97348,     0.97338,     0.97328,     0.97318,     0.97307,     0.97297,     0.97287,     0.97277,     0.97266,     0.97256,     0.97246,     0.97236,     0.97225,     0.97215,     0.97205,     0.97195,     0.97184,     0.97175,     0.97175,     0.97175,     0.97175,\n",
              "            0.97175,     0.97175,     0.97175,     0.97175,     0.97175,     0.97175,     0.97175,     0.97175,     0.97175,     0.97175,     0.97175,     0.97175,     0.97175,     0.97175,     0.97175,     0.97175,     0.97175,     0.97175,     0.97142,      0.9709,     0.97037,     0.96984,     0.96932,\n",
              "            0.96879,     0.96826,     0.96774,     0.96721,     0.96668,     0.96616,     0.96596,     0.96579,     0.96563,     0.96547,      0.9653,     0.96514,     0.96498,     0.96481,     0.96465,     0.96449,     0.96432,     0.96416,       0.964,     0.96384,     0.96367,     0.96351,     0.96335,\n",
              "            0.96318,     0.96302,     0.96286,     0.96269,     0.96253,     0.96237,      0.9622,     0.96204,     0.96188,     0.96171,     0.96155,     0.96139,     0.96122,     0.96106,      0.9609,     0.96074,     0.96057,     0.96042,      0.9603,     0.96018,     0.96006,     0.95994,     0.95982,\n",
              "             0.9597,     0.95958,     0.95946,     0.95933,     0.95921,     0.95909,     0.95897,     0.95885,     0.95873,     0.95861,     0.95849,     0.95837,     0.95825,     0.95813,     0.95801,     0.95789,     0.95777,     0.95765,     0.95752,      0.9574,     0.95728,     0.95716,     0.95704,\n",
              "            0.95692,      0.9568,     0.95668,     0.95656,     0.95644,     0.95632,      0.9562,     0.95608,     0.95596,     0.95584,     0.95572,     0.95559,     0.95547,     0.95535,     0.95523,     0.95511,     0.95499,     0.95487,      0.9548,      0.9548,      0.9548,      0.9548,      0.9548,\n",
              "             0.9548,      0.9548,      0.9548,      0.9548,      0.9548,      0.9548,      0.9548,      0.9548,     0.95455,     0.95421,     0.95387,     0.95352,     0.95318,     0.95284,      0.9525,     0.95216,     0.95182,     0.95148,     0.95114,      0.9508,     0.95046,     0.95012,     0.94978,\n",
              "            0.94944,     0.94877,     0.94645,     0.94414,     0.94182,      0.9395,     0.93785,     0.93785,     0.93717,     0.93634,     0.93552,     0.93469,     0.93386,     0.93303,     0.93221,     0.93056,      0.9289,     0.92725,     0.92319,      0.9209,      0.9209,      0.9209,      0.9209,\n",
              "             0.9209,     0.92035,     0.91803,     0.91572,     0.91216,      0.9057,     0.90362,     0.90322,     0.90282,     0.90242,     0.90202,     0.90162,     0.90122,     0.90082,     0.90042,     0.90002,     0.89962,     0.89922,     0.89882,     0.89842,     0.89729,     0.89584,     0.89439,\n",
              "            0.89294,     0.89034,     0.88744,     0.88536,     0.88343,      0.8815,     0.87868,     0.87579,     0.87446,     0.87317,     0.87188,     0.87059,     0.86781,     0.86303,     0.85311,     0.85311,     0.85311,     0.85311,     0.84889,     0.84571,      0.8434,      0.8412,     0.83927,\n",
              "            0.83734,     0.83167,     0.82877,     0.82684,     0.82491,     0.82361,     0.82232,     0.82103,     0.81975,     0.81584,     0.80439,     0.79982,     0.79629,     0.79436,     0.79243,     0.78252,     0.77675,     0.76752,     0.76463,     0.76075,     0.75285,     0.74634,     0.73916,\n",
              "            0.73684,     0.73453,     0.72883,     0.72586,     0.71698,     0.70971,     0.70566,     0.69987,     0.69458,     0.69227,     0.68995,     0.67545,     0.64832,     0.62635,     0.62345,     0.61782,     0.60624,     0.59466,      0.5825,     0.57388,     0.56328,     0.55942,      0.5452,\n",
              "            0.54233,      0.5404,     0.53847,      0.5308,      0.5279,     0.52375,     0.51851,     0.51658,     0.51465,     0.50425,     0.49281,     0.48137,     0.47275,     0.46131,     0.45341,     0.42488,     0.39635,     0.37035,     0.36188,     0.35782,     0.35396,     0.34408,     0.33574,\n",
              "            0.32068,     0.31836,     0.31554,     0.30877,     0.29154,     0.27431,      0.2533,     0.24944,     0.21696,     0.19973,      0.1825,     0.17585,     0.17006,     0.16427,     0.14747,     0.13425,     0.13136,     0.11851,     0.11244,    0.098452,     0.09266,    0.082395,    0.071761,\n",
              "           0.066273,    0.063957,    0.053964,     0.04379,    0.037998,    0.032207,    0.027027,    0.023166,    0.020952,    0.019022,    0.017091,    0.013373,    0.010704,   0.0094168,   0.0081299,    0.006843,           0,           0,           0,           0,           0,           0,           0,\n",
              "                  0,           0,           0,           0,           0,           0,           0,           0,           0,           0,           0]]), 'Confidence', 'Recall']]\n",
              "fitness: np.float64(0.9166596267459511)\n",
              "keys: ['metrics/precision(B)', 'metrics/recall(B)', 'metrics/mAP50(B)', 'metrics/mAP50-95(B)']\n",
              "maps: array([    0.90836])\n",
              "names: {0: 'etiqueta'}\n",
              "plot: True\n",
              "results_dict: {'metrics/precision(B)': np.float64(0.960708748663132), 'metrics/recall(B)': np.float64(0.9943502824858758), 'metrics/mAP50(B)': np.float64(0.9913263103812395), 'metrics/mAP50-95(B)': np.float64(0.9083633285642524), 'fitness': np.float64(0.9166596267459511)}\n",
              "save_dir: PosixPath('runs/detect/train')\n",
              "speed: {'preprocess': 0.2630790833340716, 'inference': 2.552029194444256, 'loss': 0.00045004629909170844, 'postprocess': 3.107933518517964}\n",
              "task: 'detect'"
            ]
          },
          "metadata": {},
          "execution_count": 5
        }
      ]
    },
    {
      "cell_type": "code",
      "source": [
        "metrics = model.val()"
      ],
      "metadata": {
        "colab": {
          "base_uri": "https://localhost:8080/"
        },
        "id": "sO8_ZvqDEv3-",
        "outputId": "513eb990-6f64-4e41-b2f1-f20fffe7cc77"
      },
      "execution_count": null,
      "outputs": [
        {
          "output_type": "stream",
          "name": "stdout",
          "text": [
            "Ultralytics 8.3.138 🚀 Python-3.11.12 torch-2.6.0+cu124 CUDA:0 (Tesla T4, 15095MiB)\n",
            "Model summary (fused): 72 layers, 3,005,843 parameters, 0 gradients, 8.1 GFLOPs\n",
            "\u001b[34m\u001b[1mval: \u001b[0mFast image access ✅ (ping: 0.0±0.0 ms, read: 1840.8±1372.3 MB/s, size: 2150.3 KB)\n"
          ]
        },
        {
          "output_type": "stream",
          "name": "stderr",
          "text": [
            "\u001b[34m\u001b[1mval: \u001b[0mScanning /content/yolo_dataset/labels/val.cache... 108 images, 5 backgrounds, 0 corrupt: 100%|██████████| 108/108 [00:00<?, ?it/s]\n",
            "                 Class     Images  Instances      Box(P          R      mAP50  mAP50-95): 100%|██████████| 7/7 [00:18<00:00,  2.71s/it]\n"
          ]
        },
        {
          "output_type": "stream",
          "name": "stdout",
          "text": [
            "                   all        108        177      0.956      0.993      0.991      0.904\n",
            "Speed: 0.2ms preprocess, 6.4ms inference, 0.0ms loss, 2.9ms postprocess per image\n",
            "Results saved to \u001b[1mruns/detect/train2\u001b[0m\n"
          ]
        }
      ]
    },
    {
      "cell_type": "code",
      "source": [
        "from ultralytics import YOLO\n",
        "import os\n",
        "\n",
        "# Cargar modelo entrenado\n",
        "model = YOLO('runs/detect/train/weights/best.pt')\n",
        "\n",
        "# Ruta a tus nuevas imágenes\n",
        "carpeta_nuevas = '/content/drive/MyDrive/nuevas_imagenes'\n",
        "\n",
        "# Ejecutar predicciones\n",
        "results = model.predict(source=carpeta_nuevas, save=True, conf=0.25)\n",
        "\n",
        "# Las imágenes anotadas se guardan automáticamente en:\n",
        "# runs/detect/predict"
      ],
      "metadata": {
        "colab": {
          "base_uri": "https://localhost:8080/"
        },
        "id": "fS2OayHZGCZl",
        "outputId": "3f662b43-c721-417b-b595-c2d2b372f11f"
      },
      "execution_count": null,
      "outputs": [
        {
          "output_type": "stream",
          "name": "stdout",
          "text": [
            "\n",
            "image 1/96 /content/drive/MyDrive/nuevas_imagenes/IMG_6183.JPG: 640x480 2 etiquetas, 38.4ms\n",
            "image 2/96 /content/drive/MyDrive/nuevas_imagenes/IMG_6184 (1).JPG: 640x480 1 etiqueta, 35.1ms\n",
            "image 3/96 /content/drive/MyDrive/nuevas_imagenes/IMG_6185.JPG: 640x480 2 etiquetas, 9.0ms\n",
            "image 4/96 /content/drive/MyDrive/nuevas_imagenes/IMG_6186.JPG: 640x480 3 etiquetas, 12.7ms\n",
            "image 5/96 /content/drive/MyDrive/nuevas_imagenes/IMG_6187.JPG: 640x480 2 etiquetas, 7.3ms\n",
            "image 6/96 /content/drive/MyDrive/nuevas_imagenes/IMG_6188.JPG: 640x480 1 etiqueta, 7.2ms\n",
            "image 7/96 /content/drive/MyDrive/nuevas_imagenes/IMG_6189.JPG: 640x480 4 etiquetas, 7.3ms\n",
            "image 8/96 /content/drive/MyDrive/nuevas_imagenes/IMG_6190 (1).JPG: 640x480 (no detections), 7.5ms\n",
            "image 9/96 /content/drive/MyDrive/nuevas_imagenes/IMG_6191 (1).JPG: 640x480 5 etiquetas, 13.1ms\n",
            "image 10/96 /content/drive/MyDrive/nuevas_imagenes/IMG_6192.JPG: 640x480 2 etiquetas, 8.9ms\n",
            "image 11/96 /content/drive/MyDrive/nuevas_imagenes/IMG_6193.JPG: 640x480 1 etiqueta, 8.3ms\n",
            "image 12/96 /content/drive/MyDrive/nuevas_imagenes/IMG_6194 (1).JPG: 640x480 1 etiqueta, 7.4ms\n",
            "image 13/96 /content/drive/MyDrive/nuevas_imagenes/IMG_6195.JPG: 640x480 3 etiquetas, 7.2ms\n",
            "image 14/96 /content/drive/MyDrive/nuevas_imagenes/IMG_6196.JPG: 640x480 1 etiqueta, 7.9ms\n",
            "image 15/96 /content/drive/MyDrive/nuevas_imagenes/IMG_6197 (1).JPG: 640x480 2 etiquetas, 10.2ms\n",
            "image 16/96 /content/drive/MyDrive/nuevas_imagenes/IMG_6198.JPG: 640x480 2 etiquetas, 9.1ms\n",
            "image 17/96 /content/drive/MyDrive/nuevas_imagenes/IMG_6199.JPG: 640x480 1 etiqueta, 13.1ms\n",
            "image 18/96 /content/drive/MyDrive/nuevas_imagenes/IMG_6200.JPG: 640x480 1 etiqueta, 7.6ms\n",
            "image 19/96 /content/drive/MyDrive/nuevas_imagenes/IMG_6201 (1).JPG: 640x480 2 etiquetas, 48.2ms\n",
            "image 20/96 /content/drive/MyDrive/nuevas_imagenes/IMG_6202 (1).JPG: 480x640 3 etiquetas, 36.0ms\n",
            "image 21/96 /content/drive/MyDrive/nuevas_imagenes/IMG_6203.JPG: 480x640 3 etiquetas, 7.4ms\n",
            "image 22/96 /content/drive/MyDrive/nuevas_imagenes/IMG_6204 (1).JPG: 480x640 5 etiquetas, 7.9ms\n",
            "image 23/96 /content/drive/MyDrive/nuevas_imagenes/IMG_6205 (1).JPG: 480x640 4 etiquetas, 10.3ms\n",
            "image 24/96 /content/drive/MyDrive/nuevas_imagenes/IMG_6206 (1).JPG: 480x640 5 etiquetas, 15.8ms\n",
            "image 25/96 /content/drive/MyDrive/nuevas_imagenes/IMG_6207 (1).JPG: 480x640 5 etiquetas, 7.3ms\n",
            "image 26/96 /content/drive/MyDrive/nuevas_imagenes/IMG_6208 (1).JPG: 480x640 4 etiquetas, 13.7ms\n",
            "image 27/96 /content/drive/MyDrive/nuevas_imagenes/IMG_6209.JPG: 480x640 3 etiquetas, 7.4ms\n",
            "image 28/96 /content/drive/MyDrive/nuevas_imagenes/IMG_6210.JPG: 480x640 2 etiquetas, 7.3ms\n",
            "image 29/96 /content/drive/MyDrive/nuevas_imagenes/IMG_6211.JPG: 480x640 1 etiqueta, 7.5ms\n",
            "image 30/96 /content/drive/MyDrive/nuevas_imagenes/IMG_6212 (1).JPG: 480x640 3 etiquetas, 9.8ms\n",
            "image 31/96 /content/drive/MyDrive/nuevas_imagenes/IMG_6213.JPG: 480x640 4 etiquetas, 7.4ms\n",
            "image 32/96 /content/drive/MyDrive/nuevas_imagenes/IMG_6214 (1).JPG: 480x640 3 etiquetas, 8.0ms\n",
            "image 33/96 /content/drive/MyDrive/nuevas_imagenes/IMG_6215.JPG: 480x640 4 etiquetas, 7.5ms\n",
            "image 34/96 /content/drive/MyDrive/nuevas_imagenes/IMG_6216.JPG: 480x640 4 etiquetas, 7.4ms\n",
            "image 35/96 /content/drive/MyDrive/nuevas_imagenes/IMG_6217 (1).JPG: 480x640 4 etiquetas, 10.9ms\n",
            "image 36/96 /content/drive/MyDrive/nuevas_imagenes/IMG_6218 (1).JPG: 480x640 5 etiquetas, 12.5ms\n",
            "image 37/96 /content/drive/MyDrive/nuevas_imagenes/IMG_6219.JPG: 480x640 4 etiquetas, 7.7ms\n",
            "image 38/96 /content/drive/MyDrive/nuevas_imagenes/IMG_6220.JPG: 480x640 4 etiquetas, 7.9ms\n",
            "image 39/96 /content/drive/MyDrive/nuevas_imagenes/IMG_6221.JPG: 480x640 4 etiquetas, 7.6ms\n",
            "image 40/96 /content/drive/MyDrive/nuevas_imagenes/IMG_6222 (1).JPG: 480x640 2 etiquetas, 7.6ms\n",
            "image 41/96 /content/drive/MyDrive/nuevas_imagenes/IMG_6223.JPG: 480x640 2 etiquetas, 7.4ms\n",
            "image 42/96 /content/drive/MyDrive/nuevas_imagenes/IMG_6224.JPG: 640x480 3 etiquetas, 8.1ms\n",
            "image 43/96 /content/drive/MyDrive/nuevas_imagenes/IMG_6225.JPG: 480x640 3 etiquetas, 8.1ms\n",
            "image 44/96 /content/drive/MyDrive/nuevas_imagenes/IMG_6226.JPG: 480x640 3 etiquetas, 7.8ms\n",
            "image 45/96 /content/drive/MyDrive/nuevas_imagenes/IMG_6227 (1).JPG: 480x640 3 etiquetas, 11.4ms\n",
            "image 46/96 /content/drive/MyDrive/nuevas_imagenes/IMG_6228.JPG: 480x640 6 etiquetas, 8.0ms\n",
            "image 47/96 /content/drive/MyDrive/nuevas_imagenes/IMG_6229.JPG: 480x640 4 etiquetas, 12.0ms\n",
            "image 48/96 /content/drive/MyDrive/nuevas_imagenes/IMG_6230 (1).JPG: 640x480 1 etiqueta, 9.9ms\n",
            "image 49/96 /content/drive/MyDrive/nuevas_imagenes/IMG_6231.JPG: 640x480 2 etiquetas, 14.6ms\n",
            "image 50/96 /content/drive/MyDrive/nuevas_imagenes/IMG_6232.JPG: 640x480 2 etiquetas, 7.6ms\n",
            "image 51/96 /content/drive/MyDrive/nuevas_imagenes/IMG_6233 (1).JPG: 640x480 1 etiqueta, 7.3ms\n",
            "image 52/96 /content/drive/MyDrive/nuevas_imagenes/IMG_6234.JPG: 640x480 2 etiquetas, 8.2ms\n",
            "image 53/96 /content/drive/MyDrive/nuevas_imagenes/IMG_6235.JPG: 640x480 5 etiquetas, 8.4ms\n",
            "image 54/96 /content/drive/MyDrive/nuevas_imagenes/IMG_6236.JPG: 640x480 6 etiquetas, 7.6ms\n",
            "image 55/96 /content/drive/MyDrive/nuevas_imagenes/IMG_6237 (1).JPG: 640x480 6 etiquetas, 8.2ms\n",
            "image 56/96 /content/drive/MyDrive/nuevas_imagenes/IMG_6238 (1).JPG: 640x480 5 etiquetas, 7.6ms\n",
            "image 57/96 /content/drive/MyDrive/nuevas_imagenes/IMG_6239.JPG: 640x480 4 etiquetas, 7.8ms\n",
            "image 58/96 /content/drive/MyDrive/nuevas_imagenes/IMG_6240 (1).JPG: 640x480 5 etiquetas, 8.2ms\n",
            "image 59/96 /content/drive/MyDrive/nuevas_imagenes/IMG_6241 (1).JPG: 640x480 4 etiquetas, 7.5ms\n",
            "image 60/96 /content/drive/MyDrive/nuevas_imagenes/IMG_6242.JPG: 640x480 5 etiquetas, 7.4ms\n",
            "image 61/96 /content/drive/MyDrive/nuevas_imagenes/IMG_6243 (1).JPG: 640x480 7 etiquetas, 9.8ms\n",
            "image 62/96 /content/drive/MyDrive/nuevas_imagenes/IMG_6244 (1).JPG: 640x480 7 etiquetas, 13.9ms\n",
            "image 63/96 /content/drive/MyDrive/nuevas_imagenes/IMG_6245 (1).JPG: 640x480 5 etiquetas, 7.3ms\n",
            "image 64/96 /content/drive/MyDrive/nuevas_imagenes/IMG_6246.JPG: 640x480 5 etiquetas, 7.3ms\n",
            "image 65/96 /content/drive/MyDrive/nuevas_imagenes/IMG_6247 (1).JPG: 640x480 2 etiquetas, 7.5ms\n",
            "image 66/96 /content/drive/MyDrive/nuevas_imagenes/IMG_6248 (1).JPG: 640x480 2 etiquetas, 12.3ms\n",
            "image 67/96 /content/drive/MyDrive/nuevas_imagenes/IMG_6249.JPG: 640x480 4 etiquetas, 7.6ms\n",
            "image 68/96 /content/drive/MyDrive/nuevas_imagenes/IMG_6250 (1).JPG: 480x640 4 etiquetas, 8.2ms\n",
            "image 69/96 /content/drive/MyDrive/nuevas_imagenes/IMG_6251 (1).JPG: 640x480 3 etiquetas, 8.3ms\n",
            "image 70/96 /content/drive/MyDrive/nuevas_imagenes/IMG_6252.JPG: 640x480 2 etiquetas, 7.6ms\n",
            "image 71/96 /content/drive/MyDrive/nuevas_imagenes/IMG_6253 (1).JPG: 640x480 2 etiquetas, 7.4ms\n",
            "image 72/96 /content/drive/MyDrive/nuevas_imagenes/IMG_6254.JPG: 640x480 3 etiquetas, 7.9ms\n",
            "image 73/96 /content/drive/MyDrive/nuevas_imagenes/IMG_6255.JPG: 640x480 4 etiquetas, 7.3ms\n",
            "image 74/96 /content/drive/MyDrive/nuevas_imagenes/IMG_6256 (1).JPG: 640x480 2 etiquetas, 7.5ms\n",
            "image 75/96 /content/drive/MyDrive/nuevas_imagenes/IMG_6257.JPG: 640x480 2 etiquetas, 11.2ms\n",
            "image 76/96 /content/drive/MyDrive/nuevas_imagenes/IMG_6258.JPG: 480x640 8 etiquetas, 10.1ms\n",
            "image 77/96 /content/drive/MyDrive/nuevas_imagenes/IMG_6259.JPG: 480x640 10 etiquetas, 13.5ms\n",
            "image 78/96 /content/drive/MyDrive/nuevas_imagenes/IMG_6260 (1).JPG: 480x640 2 etiquetas, 7.5ms\n",
            "image 79/96 /content/drive/MyDrive/nuevas_imagenes/IMG_6261 (1).JPG: 480x640 3 etiquetas, 8.0ms\n",
            "image 80/96 /content/drive/MyDrive/nuevas_imagenes/IMG_6262 (1).JPG: 640x480 2 etiquetas, 10.5ms\n",
            "image 81/96 /content/drive/MyDrive/nuevas_imagenes/IMG_6263 (1).JPG: 640x480 2 etiquetas, 9.1ms\n",
            "image 82/96 /content/drive/MyDrive/nuevas_imagenes/IMG_6264 (1).JPG: 640x480 1 etiqueta, 7.7ms\n",
            "image 83/96 /content/drive/MyDrive/nuevas_imagenes/IMG_6265 (1).JPG: 640x480 1 etiqueta, 7.6ms\n",
            "image 84/96 /content/drive/MyDrive/nuevas_imagenes/IMG_6266 (1).JPG: 640x480 2 etiquetas, 8.0ms\n",
            "image 85/96 /content/drive/MyDrive/nuevas_imagenes/IMG_6267 (1).JPG: 640x480 5 etiquetas, 7.7ms\n",
            "image 86/96 /content/drive/MyDrive/nuevas_imagenes/IMG_6268 (1).JPG: 640x480 4 etiquetas, 7.4ms\n",
            "image 87/96 /content/drive/MyDrive/nuevas_imagenes/IMG_6269 (1).JPG: 640x480 5 etiquetas, 7.6ms\n",
            "image 88/96 /content/drive/MyDrive/nuevas_imagenes/IMG_6270.JPG: 640x480 5 etiquetas, 7.8ms\n",
            "image 89/96 /content/drive/MyDrive/nuevas_imagenes/IMG_6271 (1).JPG: 640x480 7 etiquetas, 13.4ms\n",
            "image 90/96 /content/drive/MyDrive/nuevas_imagenes/IMG_6272.JPG: 640x480 7 etiquetas, 10.4ms\n",
            "image 91/96 /content/drive/MyDrive/nuevas_imagenes/IMG_6273.JPG: 640x480 6 etiquetas, 9.2ms\n",
            "image 92/96 /content/drive/MyDrive/nuevas_imagenes/IMG_6274 (1).JPG: 640x480 7 etiquetas, 7.6ms\n",
            "image 93/96 /content/drive/MyDrive/nuevas_imagenes/IMG_6275.JPG: 640x480 1 etiqueta, 7.5ms\n",
            "image 94/96 /content/drive/MyDrive/nuevas_imagenes/IMG_6276 (1).JPG: 640x480 2 etiquetas, 7.8ms\n",
            "image 95/96 /content/drive/MyDrive/nuevas_imagenes/IMG_6277.JPG: 640x480 1 etiqueta, 7.9ms\n",
            "image 96/96 /content/drive/MyDrive/nuevas_imagenes/IMG_6278.JPG: 640x480 2 etiquetas, 7.5ms\n",
            "Speed: 4.0ms preprocess, 10.1ms inference, 1.9ms postprocess per image at shape (1, 3, 640, 480)\n",
            "Results saved to \u001b[1mruns/detect/predict\u001b[0m\n"
          ]
        }
      ]
    },
    {
      "cell_type": "code",
      "source": [
        "import matplotlib.pyplot as plt\n",
        "import matplotlib.image as mpimg\n",
        "import os\n",
        "\n",
        "# Ruta donde se guardaron las imágenes predichas\n",
        "carpeta_resultados = 'runs/detect/predict'\n",
        "imagenes = sorted([f for f in os.listdir(carpeta_resultados) if f.endswith(('.jpg', '.png'))])[:10]  # Solo 10 primeras\n",
        "\n",
        "# Parámetros de visualización\n",
        "imagenes_por_fila = 5\n",
        "total_imagenes = len(imagenes)\n",
        "filas = (total_imagenes + imagenes_por_fila - 1) // imagenes_por_fila\n",
        "\n",
        "plt.figure(figsize=(20, 4 * filas))\n",
        "\n",
        "for i, nombre in enumerate(imagenes):\n",
        "    ruta = os.path.join(carpeta_resultados, nombre)\n",
        "    img = mpimg.imread(ruta)\n",
        "    plt.subplot(filas, imagenes_por_fila, i + 1)\n",
        "    plt.imshow(img)\n",
        "    plt.title(nombre, fontsize=8)\n",
        "    plt.axis('off')\n",
        "\n",
        "plt.tight_layout()\n",
        "plt.show()"
      ],
      "metadata": {
        "id": "eh9W7TxmHt8O"
      },
      "execution_count": null,
      "outputs": []
    }
  ]
}